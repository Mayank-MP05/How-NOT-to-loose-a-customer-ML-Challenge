{
 "cells": [
  {
   "cell_type": "code",
   "execution_count": 174,
   "metadata": {},
   "outputs": [],
   "source": [
    "import pandas as pd\n",
    "import numpy as np"
   ]
  },
  {
   "cell_type": "code",
   "execution_count": 175,
   "metadata": {},
   "outputs": [],
   "source": [
    "df = pd.read_csv('dataset/train.csv')"
   ]
  },
  {
   "cell_type": "code",
   "execution_count": 176,
   "metadata": {},
   "outputs": [
    {
     "data": {
      "text/plain": [
       "(36992, 25)"
      ]
     },
     "execution_count": 176,
     "metadata": {},
     "output_type": "execute_result"
    }
   ],
   "source": [
    "df.shape"
   ]
  },
  {
   "cell_type": "code",
   "execution_count": 177,
   "metadata": {},
   "outputs": [
    {
     "data": {
      "text/plain": [
       "Index(['customer_id', 'Name', 'age', 'gender', 'security_no',\n",
       "       'region_category', 'membership_category', 'joining_date',\n",
       "       'joined_through_referral', 'referral_id', 'preferred_offer_types',\n",
       "       'medium_of_operation', 'internet_option', 'last_visit_time',\n",
       "       'days_since_last_login', 'avg_time_spent', 'avg_transaction_value',\n",
       "       'avg_frequency_login_days', 'points_in_wallet', 'used_special_discount',\n",
       "       'offer_application_preference', 'past_complaint', 'complaint_status',\n",
       "       'feedback', 'churn_risk_score'],\n",
       "      dtype='object')"
      ]
     },
     "execution_count": 177,
     "metadata": {},
     "output_type": "execute_result"
    }
   ],
   "source": [
    "df.columns"
   ]
  },
  {
   "cell_type": "code",
   "execution_count": 178,
   "metadata": {},
   "outputs": [],
   "source": [
    "def _joined_through_ref_cleaner(row):\n",
    "    yesOrNo = 'Yes' if row[\"referral_id\"] != 'xxxxxxxx' else 'No'\n",
    "    row['joined_through_referral'] = yesOrNo if (row['joined_through_referral'] == '?') else row['joined_through_referral']\n",
    "    return row\n",
    "\n",
    "def joined_through_ref_cleaner(df):\n",
    "    df2 = df.apply(lambda row:_joined_through_ref_cleaner(row),axis=1)\n",
    "    return df2\n",
    "    \n",
    "def churn_risk_score_negative(df):\n",
    "    df.loc[(df[\"churn_risk_score\"] < 0) | (df[\"churn_risk_score\"] > 5)] = int(df[\"churn_risk_score\"].mean())\n",
    "    return df\n",
    "\n",
    "def joining_date_converter(df):\n",
    "    minDate = pd.to_datetime(df['joining_date']).min()\n",
    "#     print(minDate)\n",
    "    df[\"joining_date\"] = (pd.to_datetime(df[\"joining_date\"]) - minDate).astype('timedelta64[D]')\n",
    "    return df\n",
    "\n",
    "def last_visit_time_converter(df):\n",
    "    df['last_visit_time'] = pd.to_timedelta(df['last_visit_time'], unit='ns').dt.total_seconds().astype('int64')\n",
    "#     df[\"last_visit_time\"] = pd.to_datetime(df[\"last_visit_time\"]).astype('int64') // 10**9\n",
    "    return df\n",
    "\n",
    "def transform_data(df):\n",
    "    df1 = joined_through_ref_cleaner(df)\n",
    "    df2 = joining_date_converter(df1)\n",
    "    df3 = last_visit_time_converter(df2)\n",
    "    return df3"
   ]
  },
  {
   "cell_type": "code",
   "execution_count": 179,
   "metadata": {},
   "outputs": [],
   "source": [
    "df = transform_data(df)\n",
    "# df = churn_risk_score_negative(df)"
   ]
  },
  {
   "cell_type": "code",
   "execution_count": 180,
   "metadata": {},
   "outputs": [],
   "source": [
    "def dropAllNA(df):\n",
    "    df[\"gender\"] = df[\"gender\"].replace(\"Unknown\",np.NaN)\n",
    "    df[\"avg_frequency_login_days\"] = df[\"avg_frequency_login_days\"].replace(\"Error\",np.NaN)\n",
    "    df[\"medium_of_operation\"] = df[\"medium_of_operation\"].replace(\"?\",np.NaN)\n",
    "    \n",
    "    df['gender'].fillna(df[\"gender\"].value_counts().index[0],inplace=True)\n",
    "    df['avg_frequency_login_days'].fillna(df[\"avg_frequency_login_days\"].value_counts().index[0],inplace=True)\n",
    "    df['medium_of_operation'].fillna(df[\"medium_of_operation\"].value_counts().index[0],inplace=True)\n",
    "    df['region_category'].fillna(df[\"region_category\"].value_counts().index[0],inplace=True)\n",
    "    df['preferred_offer_types'].fillna(df[\"preferred_offer_types\"].value_counts().index[0],inplace=True)\n",
    "    \n",
    "    df['points_in_wallet'].fillna(df[\"points_in_wallet\"].astype('float64').mean(),inplace=True)\n",
    "    df['points_in_wallet'] = df['points_in_wallet'].astype('float64')\n",
    "    return df"
   ]
  },
  {
   "cell_type": "code",
   "execution_count": 181,
   "metadata": {},
   "outputs": [],
   "source": [
    "df = dropAllNA(df)"
   ]
  },
  {
   "cell_type": "code",
   "execution_count": 182,
   "metadata": {},
   "outputs": [
    {
     "data": {
      "text/plain": [
       "array(['F', 'M'], dtype=object)"
      ]
     },
     "execution_count": 182,
     "metadata": {},
     "output_type": "execute_result"
    }
   ],
   "source": [
    "df[\"gender\"].unique()"
   ]
  },
  {
   "cell_type": "code",
   "execution_count": 183,
   "metadata": {},
   "outputs": [
    {
     "data": {
      "text/plain": [
       "customer_id                     0\n",
       "Name                            0\n",
       "age                             0\n",
       "gender                          0\n",
       "security_no                     0\n",
       "region_category                 0\n",
       "membership_category             0\n",
       "joining_date                    0\n",
       "joined_through_referral         0\n",
       "referral_id                     0\n",
       "preferred_offer_types           0\n",
       "medium_of_operation             0\n",
       "internet_option                 0\n",
       "last_visit_time                 0\n",
       "days_since_last_login           0\n",
       "avg_time_spent                  0\n",
       "avg_transaction_value           0\n",
       "avg_frequency_login_days        0\n",
       "points_in_wallet                0\n",
       "used_special_discount           0\n",
       "offer_application_preference    0\n",
       "past_complaint                  0\n",
       "complaint_status                0\n",
       "feedback                        0\n",
       "churn_risk_score                0\n",
       "dtype: int64"
      ]
     },
     "execution_count": 183,
     "metadata": {},
     "output_type": "execute_result"
    }
   ],
   "source": [
    "df.isnull().sum()"
   ]
  },
  {
   "cell_type": "code",
   "execution_count": 184,
   "metadata": {},
   "outputs": [],
   "source": [
    "df = df.fillna(df.mean())"
   ]
  },
  {
   "cell_type": "code",
   "execution_count": 185,
   "metadata": {},
   "outputs": [
    {
     "data": {
      "text/plain": [
       "customer_id                     0\n",
       "Name                            0\n",
       "age                             0\n",
       "gender                          0\n",
       "security_no                     0\n",
       "region_category                 0\n",
       "membership_category             0\n",
       "joining_date                    0\n",
       "joined_through_referral         0\n",
       "referral_id                     0\n",
       "preferred_offer_types           0\n",
       "medium_of_operation             0\n",
       "internet_option                 0\n",
       "last_visit_time                 0\n",
       "days_since_last_login           0\n",
       "avg_time_spent                  0\n",
       "avg_transaction_value           0\n",
       "avg_frequency_login_days        0\n",
       "points_in_wallet                0\n",
       "used_special_discount           0\n",
       "offer_application_preference    0\n",
       "past_complaint                  0\n",
       "complaint_status                0\n",
       "feedback                        0\n",
       "churn_risk_score                0\n",
       "dtype: int64"
      ]
     },
     "execution_count": 185,
     "metadata": {},
     "output_type": "execute_result"
    }
   ],
   "source": [
    "df.isnull().sum()"
   ]
  },
  {
   "cell_type": "code",
   "execution_count": 186,
   "metadata": {},
   "outputs": [
    {
     "data": {
      "text/plain": [
       "(36992, 25)"
      ]
     },
     "execution_count": 186,
     "metadata": {},
     "output_type": "execute_result"
    }
   ],
   "source": [
    "df.shape"
   ]
  },
  {
   "cell_type": "code",
   "execution_count": 187,
   "metadata": {},
   "outputs": [
    {
     "data": {
      "text/plain": [
       "customer_id                     0\n",
       "Name                            0\n",
       "age                             0\n",
       "gender                          0\n",
       "security_no                     0\n",
       "region_category                 0\n",
       "membership_category             0\n",
       "joining_date                    0\n",
       "joined_through_referral         0\n",
       "referral_id                     0\n",
       "preferred_offer_types           0\n",
       "medium_of_operation             0\n",
       "internet_option                 0\n",
       "last_visit_time                 0\n",
       "days_since_last_login           0\n",
       "avg_time_spent                  0\n",
       "avg_transaction_value           0\n",
       "avg_frequency_login_days        0\n",
       "points_in_wallet                0\n",
       "used_special_discount           0\n",
       "offer_application_preference    0\n",
       "past_complaint                  0\n",
       "complaint_status                0\n",
       "feedback                        0\n",
       "churn_risk_score                0\n",
       "dtype: int64"
      ]
     },
     "execution_count": 187,
     "metadata": {},
     "output_type": "execute_result"
    }
   ],
   "source": [
    "df.isnull().sum()"
   ]
  },
  {
   "cell_type": "code",
   "execution_count": 188,
   "metadata": {},
   "outputs": [],
   "source": [
    "from sklearn import preprocessing\n",
    "label_encoder = preprocessing.LabelEncoder()"
   ]
  },
  {
   "cell_type": "code",
   "execution_count": 189,
   "metadata": {},
   "outputs": [
    {
     "data": {
      "text/plain": [
       "customer_id                      object\n",
       "Name                             object\n",
       "age                               int64\n",
       "gender                           object\n",
       "security_no                      object\n",
       "region_category                  object\n",
       "membership_category              object\n",
       "joining_date                    float64\n",
       "joined_through_referral          object\n",
       "referral_id                      object\n",
       "preferred_offer_types            object\n",
       "medium_of_operation              object\n",
       "internet_option                  object\n",
       "last_visit_time                   int64\n",
       "days_since_last_login             int64\n",
       "avg_time_spent                  float64\n",
       "avg_transaction_value           float64\n",
       "avg_frequency_login_days         object\n",
       "points_in_wallet                float64\n",
       "used_special_discount            object\n",
       "offer_application_preference     object\n",
       "past_complaint                   object\n",
       "complaint_status                 object\n",
       "feedback                         object\n",
       "churn_risk_score                  int64\n",
       "dtype: object"
      ]
     },
     "execution_count": 189,
     "metadata": {},
     "output_type": "execute_result"
    }
   ],
   "source": [
    "df.dtypes"
   ]
  },
  {
   "cell_type": "code",
   "execution_count": 190,
   "metadata": {},
   "outputs": [
    {
     "data": {
      "text/plain": [
       "customer_id                     int32\n",
       "Name                            int32\n",
       "gender                          int32\n",
       "security_no                     int32\n",
       "region_category                 int32\n",
       "membership_category             int32\n",
       "joined_through_referral         int32\n",
       "referral_id                     int32\n",
       "preferred_offer_types           int32\n",
       "medium_of_operation             int32\n",
       "internet_option                 int32\n",
       "avg_frequency_login_days        int32\n",
       "used_special_discount           int32\n",
       "offer_application_preference    int32\n",
       "past_complaint                  int32\n",
       "complaint_status                int32\n",
       "feedback                        int32\n",
       "dtype: object"
      ]
     },
     "execution_count": 190,
     "metadata": {},
     "output_type": "execute_result"
    }
   ],
   "source": [
    "df2 = df.select_dtypes(include=\"object\")\n",
    "df2 = df2.astype(str).apply(label_encoder.fit_transform)\n",
    "df2.dtypes"
   ]
  },
  {
   "cell_type": "code",
   "execution_count": 191,
   "metadata": {},
   "outputs": [
    {
     "data": {
      "text/html": [
       "<div>\n",
       "<style scoped>\n",
       "    .dataframe tbody tr th:only-of-type {\n",
       "        vertical-align: middle;\n",
       "    }\n",
       "\n",
       "    .dataframe tbody tr th {\n",
       "        vertical-align: top;\n",
       "    }\n",
       "\n",
       "    .dataframe thead th {\n",
       "        text-align: right;\n",
       "    }\n",
       "</style>\n",
       "<table border=\"1\" class=\"dataframe\">\n",
       "  <thead>\n",
       "    <tr style=\"text-align: right;\">\n",
       "      <th></th>\n",
       "      <th>customer_id</th>\n",
       "      <th>Name</th>\n",
       "      <th>gender</th>\n",
       "      <th>security_no</th>\n",
       "      <th>region_category</th>\n",
       "      <th>membership_category</th>\n",
       "      <th>joined_through_referral</th>\n",
       "      <th>referral_id</th>\n",
       "      <th>preferred_offer_types</th>\n",
       "      <th>medium_of_operation</th>\n",
       "      <th>internet_option</th>\n",
       "      <th>avg_frequency_login_days</th>\n",
       "      <th>used_special_discount</th>\n",
       "      <th>offer_application_preference</th>\n",
       "      <th>past_complaint</th>\n",
       "      <th>complaint_status</th>\n",
       "      <th>feedback</th>\n",
       "    </tr>\n",
       "  </thead>\n",
       "  <tbody>\n",
       "    <tr>\n",
       "      <th>0</th>\n",
       "      <td>32243</td>\n",
       "      <td>28675</td>\n",
       "      <td>0</td>\n",
       "      <td>34811</td>\n",
       "      <td>2</td>\n",
       "      <td>3</td>\n",
       "      <td>0</td>\n",
       "      <td>11358</td>\n",
       "      <td>1</td>\n",
       "      <td>1</td>\n",
       "      <td>2</td>\n",
       "      <td>746</td>\n",
       "      <td>1</td>\n",
       "      <td>1</td>\n",
       "      <td>0</td>\n",
       "      <td>1</td>\n",
       "      <td>4</td>\n",
       "    </tr>\n",
       "    <tr>\n",
       "      <th>1</th>\n",
       "      <td>7055</td>\n",
       "      <td>34951</td>\n",
       "      <td>0</td>\n",
       "      <td>5804</td>\n",
       "      <td>0</td>\n",
       "      <td>4</td>\n",
       "      <td>1</td>\n",
       "      <td>2225</td>\n",
       "      <td>1</td>\n",
       "      <td>1</td>\n",
       "      <td>1</td>\n",
       "      <td>732</td>\n",
       "      <td>1</td>\n",
       "      <td>0</td>\n",
       "      <td>1</td>\n",
       "      <td>2</td>\n",
       "      <td>5</td>\n",
       "    </tr>\n",
       "    <tr>\n",
       "      <th>2</th>\n",
       "      <td>5910</td>\n",
       "      <td>25315</td>\n",
       "      <td>0</td>\n",
       "      <td>1534</td>\n",
       "      <td>1</td>\n",
       "      <td>2</td>\n",
       "      <td>1</td>\n",
       "      <td>471</td>\n",
       "      <td>1</td>\n",
       "      <td>1</td>\n",
       "      <td>2</td>\n",
       "      <td>779</td>\n",
       "      <td>0</td>\n",
       "      <td>1</td>\n",
       "      <td>1</td>\n",
       "      <td>3</td>\n",
       "      <td>3</td>\n",
       "    </tr>\n",
       "    <tr>\n",
       "      <th>3</th>\n",
       "      <td>32400</td>\n",
       "      <td>10462</td>\n",
       "      <td>1</td>\n",
       "      <td>32501</td>\n",
       "      <td>0</td>\n",
       "      <td>2</td>\n",
       "      <td>1</td>\n",
       "      <td>5506</td>\n",
       "      <td>1</td>\n",
       "      <td>1</td>\n",
       "      <td>1</td>\n",
       "      <td>1637</td>\n",
       "      <td>0</td>\n",
       "      <td>1</td>\n",
       "      <td>1</td>\n",
       "      <td>4</td>\n",
       "      <td>3</td>\n",
       "    </tr>\n",
       "    <tr>\n",
       "      <th>4</th>\n",
       "      <td>6070</td>\n",
       "      <td>24704</td>\n",
       "      <td>0</td>\n",
       "      <td>29819</td>\n",
       "      <td>0</td>\n",
       "      <td>2</td>\n",
       "      <td>0</td>\n",
       "      <td>11358</td>\n",
       "      <td>0</td>\n",
       "      <td>2</td>\n",
       "      <td>1</td>\n",
       "      <td>743</td>\n",
       "      <td>0</td>\n",
       "      <td>1</td>\n",
       "      <td>1</td>\n",
       "      <td>2</td>\n",
       "      <td>3</td>\n",
       "    </tr>\n",
       "  </tbody>\n",
       "</table>\n",
       "</div>"
      ],
      "text/plain": [
       "   customer_id   Name  gender  security_no  region_category  \\\n",
       "0        32243  28675       0        34811                2   \n",
       "1         7055  34951       0         5804                0   \n",
       "2         5910  25315       0         1534                1   \n",
       "3        32400  10462       1        32501                0   \n",
       "4         6070  24704       0        29819                0   \n",
       "\n",
       "   membership_category  joined_through_referral  referral_id  \\\n",
       "0                    3                        0        11358   \n",
       "1                    4                        1         2225   \n",
       "2                    2                        1          471   \n",
       "3                    2                        1         5506   \n",
       "4                    2                        0        11358   \n",
       "\n",
       "   preferred_offer_types  medium_of_operation  internet_option  \\\n",
       "0                      1                    1                2   \n",
       "1                      1                    1                1   \n",
       "2                      1                    1                2   \n",
       "3                      1                    1                1   \n",
       "4                      0                    2                1   \n",
       "\n",
       "   avg_frequency_login_days  used_special_discount  \\\n",
       "0                       746                      1   \n",
       "1                       732                      1   \n",
       "2                       779                      0   \n",
       "3                      1637                      0   \n",
       "4                       743                      0   \n",
       "\n",
       "   offer_application_preference  past_complaint  complaint_status  feedback  \n",
       "0                             1               0                 1         4  \n",
       "1                             0               1                 2         5  \n",
       "2                             1               1                 3         3  \n",
       "3                             1               1                 4         3  \n",
       "4                             1               1                 2         3  "
      ]
     },
     "execution_count": 191,
     "metadata": {},
     "output_type": "execute_result"
    }
   ],
   "source": [
    "df2.head()"
   ]
  },
  {
   "cell_type": "code",
   "execution_count": 193,
   "metadata": {},
   "outputs": [
    {
     "ename": "KeyError",
     "evalue": "\"['avg_transaction_value'] not in index\"",
     "output_type": "error",
     "traceback": [
      "\u001b[1;31m---------------------------------------------------------------------------\u001b[0m",
      "\u001b[1;31mKeyError\u001b[0m                                  Traceback (most recent call last)",
      "\u001b[1;32m<ipython-input-193-304602aa302d>\u001b[0m in \u001b[0;36m<module>\u001b[1;34m\u001b[0m\n\u001b[0;32m      1\u001b[0m \u001b[1;32mfrom\u001b[0m \u001b[0msklearn\u001b[0m\u001b[1;33m.\u001b[0m\u001b[0mmodel_selection\u001b[0m \u001b[1;32mimport\u001b[0m \u001b[0mtrain_test_split\u001b[0m\u001b[1;33m\u001b[0m\u001b[1;33m\u001b[0m\u001b[0m\n\u001b[1;32m----> 2\u001b[1;33m X = df2[['gender',\n\u001b[0m\u001b[0;32m      3\u001b[0m        \u001b[1;34m'region_category'\u001b[0m\u001b[1;33m,\u001b[0m \u001b[1;34m'membership_category'\u001b[0m\u001b[1;33m,\u001b[0m\u001b[1;33m\u001b[0m\u001b[1;33m\u001b[0m\u001b[0m\n\u001b[0;32m      4\u001b[0m        \u001b[1;34m'joined_through_referral'\u001b[0m\u001b[1;33m,\u001b[0m \u001b[1;34m'preferred_offer_types'\u001b[0m\u001b[1;33m,\u001b[0m\u001b[1;33m\u001b[0m\u001b[1;33m\u001b[0m\u001b[0m\n\u001b[0;32m      5\u001b[0m        \u001b[1;34m'medium_of_operation'\u001b[0m\u001b[1;33m,\u001b[0m \u001b[1;34m'internet_option'\u001b[0m\u001b[1;33m,\u001b[0m\u001b[1;34m'avg_transaction_value'\u001b[0m\u001b[1;33m,\u001b[0m\u001b[1;33m\u001b[0m\u001b[1;33m\u001b[0m\u001b[0m\n",
      "\u001b[1;32m~\\anaconda3\\lib\\site-packages\\pandas\\core\\frame.py\u001b[0m in \u001b[0;36m__getitem__\u001b[1;34m(self, key)\u001b[0m\n\u001b[0;32m   2804\u001b[0m             \u001b[1;32mif\u001b[0m \u001b[0mis_iterator\u001b[0m\u001b[1;33m(\u001b[0m\u001b[0mkey\u001b[0m\u001b[1;33m)\u001b[0m\u001b[1;33m:\u001b[0m\u001b[1;33m\u001b[0m\u001b[1;33m\u001b[0m\u001b[0m\n\u001b[0;32m   2805\u001b[0m                 \u001b[0mkey\u001b[0m \u001b[1;33m=\u001b[0m \u001b[0mlist\u001b[0m\u001b[1;33m(\u001b[0m\u001b[0mkey\u001b[0m\u001b[1;33m)\u001b[0m\u001b[1;33m\u001b[0m\u001b[1;33m\u001b[0m\u001b[0m\n\u001b[1;32m-> 2806\u001b[1;33m             \u001b[0mindexer\u001b[0m \u001b[1;33m=\u001b[0m \u001b[0mself\u001b[0m\u001b[1;33m.\u001b[0m\u001b[0mloc\u001b[0m\u001b[1;33m.\u001b[0m\u001b[0m_get_listlike_indexer\u001b[0m\u001b[1;33m(\u001b[0m\u001b[0mkey\u001b[0m\u001b[1;33m,\u001b[0m \u001b[0maxis\u001b[0m\u001b[1;33m=\u001b[0m\u001b[1;36m1\u001b[0m\u001b[1;33m,\u001b[0m \u001b[0mraise_missing\u001b[0m\u001b[1;33m=\u001b[0m\u001b[1;32mTrue\u001b[0m\u001b[1;33m)\u001b[0m\u001b[1;33m[\u001b[0m\u001b[1;36m1\u001b[0m\u001b[1;33m]\u001b[0m\u001b[1;33m\u001b[0m\u001b[1;33m\u001b[0m\u001b[0m\n\u001b[0m\u001b[0;32m   2807\u001b[0m \u001b[1;33m\u001b[0m\u001b[0m\n\u001b[0;32m   2808\u001b[0m         \u001b[1;31m# take() does not accept boolean indexers\u001b[0m\u001b[1;33m\u001b[0m\u001b[1;33m\u001b[0m\u001b[1;33m\u001b[0m\u001b[0m\n",
      "\u001b[1;32m~\\anaconda3\\lib\\site-packages\\pandas\\core\\indexing.py\u001b[0m in \u001b[0;36m_get_listlike_indexer\u001b[1;34m(self, key, axis, raise_missing)\u001b[0m\n\u001b[0;32m   1550\u001b[0m             \u001b[0mkeyarr\u001b[0m\u001b[1;33m,\u001b[0m \u001b[0mindexer\u001b[0m\u001b[1;33m,\u001b[0m \u001b[0mnew_indexer\u001b[0m \u001b[1;33m=\u001b[0m \u001b[0max\u001b[0m\u001b[1;33m.\u001b[0m\u001b[0m_reindex_non_unique\u001b[0m\u001b[1;33m(\u001b[0m\u001b[0mkeyarr\u001b[0m\u001b[1;33m)\u001b[0m\u001b[1;33m\u001b[0m\u001b[1;33m\u001b[0m\u001b[0m\n\u001b[0;32m   1551\u001b[0m \u001b[1;33m\u001b[0m\u001b[0m\n\u001b[1;32m-> 1552\u001b[1;33m         self._validate_read_indexer(\n\u001b[0m\u001b[0;32m   1553\u001b[0m             \u001b[0mkeyarr\u001b[0m\u001b[1;33m,\u001b[0m \u001b[0mindexer\u001b[0m\u001b[1;33m,\u001b[0m \u001b[0mo\u001b[0m\u001b[1;33m.\u001b[0m\u001b[0m_get_axis_number\u001b[0m\u001b[1;33m(\u001b[0m\u001b[0maxis\u001b[0m\u001b[1;33m)\u001b[0m\u001b[1;33m,\u001b[0m \u001b[0mraise_missing\u001b[0m\u001b[1;33m=\u001b[0m\u001b[0mraise_missing\u001b[0m\u001b[1;33m\u001b[0m\u001b[1;33m\u001b[0m\u001b[0m\n\u001b[0;32m   1554\u001b[0m         )\n",
      "\u001b[1;32m~\\anaconda3\\lib\\site-packages\\pandas\\core\\indexing.py\u001b[0m in \u001b[0;36m_validate_read_indexer\u001b[1;34m(self, key, indexer, axis, raise_missing)\u001b[0m\n\u001b[0;32m   1644\u001b[0m             \u001b[1;32mif\u001b[0m \u001b[1;32mnot\u001b[0m \u001b[1;33m(\u001b[0m\u001b[0mself\u001b[0m\u001b[1;33m.\u001b[0m\u001b[0mname\u001b[0m \u001b[1;33m==\u001b[0m \u001b[1;34m\"loc\"\u001b[0m \u001b[1;32mand\u001b[0m \u001b[1;32mnot\u001b[0m \u001b[0mraise_missing\u001b[0m\u001b[1;33m)\u001b[0m\u001b[1;33m:\u001b[0m\u001b[1;33m\u001b[0m\u001b[1;33m\u001b[0m\u001b[0m\n\u001b[0;32m   1645\u001b[0m                 \u001b[0mnot_found\u001b[0m \u001b[1;33m=\u001b[0m \u001b[0mlist\u001b[0m\u001b[1;33m(\u001b[0m\u001b[0mset\u001b[0m\u001b[1;33m(\u001b[0m\u001b[0mkey\u001b[0m\u001b[1;33m)\u001b[0m \u001b[1;33m-\u001b[0m \u001b[0mset\u001b[0m\u001b[1;33m(\u001b[0m\u001b[0max\u001b[0m\u001b[1;33m)\u001b[0m\u001b[1;33m)\u001b[0m\u001b[1;33m\u001b[0m\u001b[1;33m\u001b[0m\u001b[0m\n\u001b[1;32m-> 1646\u001b[1;33m                 \u001b[1;32mraise\u001b[0m \u001b[0mKeyError\u001b[0m\u001b[1;33m(\u001b[0m\u001b[1;34mf\"{not_found} not in index\"\u001b[0m\u001b[1;33m)\u001b[0m\u001b[1;33m\u001b[0m\u001b[1;33m\u001b[0m\u001b[0m\n\u001b[0m\u001b[0;32m   1647\u001b[0m \u001b[1;33m\u001b[0m\u001b[0m\n\u001b[0;32m   1648\u001b[0m             \u001b[1;31m# we skip the warning on Categorical/Interval\u001b[0m\u001b[1;33m\u001b[0m\u001b[1;33m\u001b[0m\u001b[1;33m\u001b[0m\u001b[0m\n",
      "\u001b[1;31mKeyError\u001b[0m: \"['avg_transaction_value'] not in index\""
     ]
    }
   ],
   "source": [
    "from sklearn.model_selection import train_test_split\n",
    "X = df2[['gender',\n",
    "       'region_category', 'membership_category', \n",
    "       'joined_through_referral', 'preferred_offer_types',\n",
    "       'medium_of_operation', 'internet_option',\n",
    "       'avg_frequency_login_days', 'used_special_discount',\n",
    "       'offer_application_preference', 'past_complaint', 'complaint_status',\n",
    "       'feedback']]\n",
    "X[['points_in_wallet', 'age', 'avg_time_spent', 'last_visit_time', 'joining_date', 'days_since_last_login']] = df[['points_in_wallet', 'age', 'avg_time_spent', 'last_visit_time', 'joining_date', 'days_since_last_login']]\n",
    "y = df[\"churn_risk_score\"]\n",
    "X_train, X_test, y_train, y_test = train_test_split(X, y, test_size=0.33, random_state=42)\n",
    "# print(X.shape,y.shape)"
   ]
  },
  {
   "cell_type": "code",
   "execution_count": null,
   "metadata": {},
   "outputs": [],
   "source": [
    "X.head()"
   ]
  },
  {
   "cell_type": "code",
   "execution_count": null,
   "metadata": {},
   "outputs": [],
   "source": [
    "from sklearn.linear_model import LinearRegression\n",
    "from sklearn.ensemble import RandomForestClassifier\n",
    "\n",
    "model = RandomForestClassifier()"
   ]
  },
  {
   "cell_type": "code",
   "execution_count": null,
   "metadata": {},
   "outputs": [],
   "source": [
    "y_train.isna().sum()"
   ]
  },
  {
   "cell_type": "code",
   "execution_count": null,
   "metadata": {},
   "outputs": [],
   "source": [
    "model.fit(X_train,y_train)"
   ]
  },
  {
   "cell_type": "code",
   "execution_count": null,
   "metadata": {},
   "outputs": [],
   "source": [
    "y_pred = model.predict(X_test)"
   ]
  },
  {
   "cell_type": "code",
   "execution_count": null,
   "metadata": {},
   "outputs": [],
   "source": [
    "from sklearn.metrics import f1_score,mean_squared_error\n",
    "score = f1_score(y_test, y_pred,average=\"macro\")\n",
    "score"
   ]
  },
  {
   "cell_type": "code",
   "execution_count": null,
   "metadata": {},
   "outputs": [],
   "source": [
    "result_df = pd.DataFrame({\n",
    "    \"churn_risk_score\":y_pred\n",
    "})"
   ]
  },
  {
   "cell_type": "code",
   "execution_count": null,
   "metadata": {},
   "outputs": [],
   "source": [
    "result_df[\"churn_risk_score\"].unique()"
   ]
  },
  {
   "cell_type": "code",
   "execution_count": null,
   "metadata": {},
   "outputs": [],
   "source": [
    "real_test_data = pd.read_csv(\"dataset/test.csv\")\n",
    "real_test_data.head()"
   ]
  },
  {
   "cell_type": "code",
   "execution_count": null,
   "metadata": {},
   "outputs": [],
   "source": [
    "real_test_data = transform_data(real_test_data)\n",
    "real_test_data = dropAllNA(real_test_data)\n",
    "real_test_data2 = real_test_data[['age', 'gender',\n",
    "       'region_category', 'membership_category', 'joining_date',\n",
    "       'joined_through_referral', 'preferred_offer_types',\n",
    "       'medium_of_operation', 'internet_option', 'last_visit_time',\n",
    "       'days_since_last_login', 'avg_time_spent', 'avg_transaction_value',\n",
    "       'avg_frequency_login_days', 'points_in_wallet', 'used_special_discount',\n",
    "       'offer_application_preference', 'past_complaint', 'complaint_status',\n",
    "       'feedback']]"
   ]
  },
  {
   "cell_type": "code",
   "execution_count": null,
   "metadata": {},
   "outputs": [],
   "source": [
    "real_test_data2 = real_test_data2.fillna(real_test_data2.mean())"
   ]
  },
  {
   "cell_type": "code",
   "execution_count": null,
   "metadata": {},
   "outputs": [],
   "source": [
    "real_test_data2.dtypes"
   ]
  },
  {
   "cell_type": "code",
   "execution_count": null,
   "metadata": {},
   "outputs": [],
   "source": [
    "encoded_str = real_test_data2.select_dtypes(include=\"object\")#.apply(label_encoder.fit_transform)"
   ]
  },
  {
   "cell_type": "code",
   "execution_count": null,
   "metadata": {},
   "outputs": [],
   "source": [
    "model_ip = encoded_str.astype(str).apply(label_encoder.fit_transform)"
   ]
  },
  {
   "cell_type": "code",
   "execution_count": null,
   "metadata": {},
   "outputs": [],
   "source": [
    "model_ip[['points_in_wallet', 'age', 'avg_time_spent', 'last_visit_time', 'joining_date', 'days_since_last_login']] = real_test_data2[['points_in_wallet', 'age', 'avg_time_spent', 'last_visit_time', 'joining_date', 'days_since_last_login']]\n",
    "model_ip[['last_visit_time', 'joining_date']] = real_test_data2[['last_visit_time', 'joining_date']]\n",
    "model_ip.head()"
   ]
  },
  {
   "cell_type": "code",
   "execution_count": null,
   "metadata": {},
   "outputs": [],
   "source": [
    "model_ip[['last_visit_time', 'joining_date']].isna().sum()"
   ]
  },
  {
   "cell_type": "code",
   "execution_count": null,
   "metadata": {},
   "outputs": [],
   "source": [
    "model_ip.dtypes"
   ]
  },
  {
   "cell_type": "code",
   "execution_count": null,
   "metadata": {},
   "outputs": [],
   "source": [
    "# str_needed = real_test_data.select_dtypes(exclude=[\"float64\",\"int64\"])\n",
    "real_test_pred = model.predict(model_ip)"
   ]
  },
  {
   "cell_type": "code",
   "execution_count": null,
   "metadata": {},
   "outputs": [],
   "source": [
    "final_result_df = pd.DataFrame({\n",
    "    \"customer_id\":real_test_data[\"customer_id\"],\n",
    "    \"churn_risk_score\":real_test_pred.astype(int)\n",
    "})"
   ]
  },
  {
   "cell_type": "code",
   "execution_count": null,
   "metadata": {},
   "outputs": [],
   "source": [
    "final_result_df.head()"
   ]
  },
  {
   "cell_type": "code",
   "execution_count": null,
   "metadata": {},
   "outputs": [],
   "source": [
    "final_result_df.to_csv(f\"try-score-{score}.csv\")"
   ]
  },
  {
   "cell_type": "code",
   "execution_count": null,
   "metadata": {},
   "outputs": [],
   "source": []
  }
 ],
 "metadata": {
  "kernelspec": {
   "display_name": "Python 3",
   "language": "python",
   "name": "python3"
  },
  "language_info": {
   "codemirror_mode": {
    "name": "ipython",
    "version": 3
   },
   "file_extension": ".py",
   "mimetype": "text/x-python",
   "name": "python",
   "nbconvert_exporter": "python",
   "pygments_lexer": "ipython3",
   "version": "3.8.3"
  }
 },
 "nbformat": 4,
 "nbformat_minor": 4
}
