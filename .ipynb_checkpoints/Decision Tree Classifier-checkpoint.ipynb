{
 "cells": [
  {
   "cell_type": "code",
   "execution_count": 2,
   "metadata": {},
   "outputs": [],
   "source": [
    "import pandas as pd\n",
    "import numpy as np"
   ]
  },
  {
   "cell_type": "code",
   "execution_count": 6,
   "metadata": {},
   "outputs": [
    {
     "data": {
      "text/plain": [
       "(20719, 25)"
      ]
     },
     "execution_count": 6,
     "metadata": {},
     "output_type": "execute_result"
    }
   ],
   "source": [
    "df = pd.read_csv(\"warehouse/clean_data.csv\",index_col=0)\n",
    "df.shape"
   ]
  },
  {
   "cell_type": "code",
   "execution_count": 7,
   "metadata": {},
   "outputs": [],
   "source": [
    "from sklearn.tree import DecisionTreeClassifier\n",
    "from sklearn import preprocessing\n",
    "label_encoder = preprocessing.LabelEncoder()"
   ]
  },
  {
   "cell_type": "code",
   "execution_count": 8,
   "metadata": {},
   "outputs": [],
   "source": [
    "df = df.apply(label_encoder.fit_transform)"
   ]
  },
  {
   "cell_type": "code",
   "execution_count": 9,
   "metadata": {},
   "outputs": [
    {
     "data": {
      "text/html": [
       "<div>\n",
       "<style scoped>\n",
       "    .dataframe tbody tr th:only-of-type {\n",
       "        vertical-align: middle;\n",
       "    }\n",
       "\n",
       "    .dataframe tbody tr th {\n",
       "        vertical-align: top;\n",
       "    }\n",
       "\n",
       "    .dataframe thead th {\n",
       "        text-align: right;\n",
       "    }\n",
       "</style>\n",
       "<table border=\"1\" class=\"dataframe\">\n",
       "  <thead>\n",
       "    <tr style=\"text-align: right;\">\n",
       "      <th></th>\n",
       "      <th>customer_id</th>\n",
       "      <th>Name</th>\n",
       "      <th>age</th>\n",
       "      <th>gender</th>\n",
       "      <th>security_no</th>\n",
       "      <th>region_category</th>\n",
       "      <th>membership_category</th>\n",
       "      <th>joining_date</th>\n",
       "      <th>joined_through_referral</th>\n",
       "      <th>referral_id</th>\n",
       "      <th>...</th>\n",
       "      <th>avg_time_spent</th>\n",
       "      <th>avg_transaction_value</th>\n",
       "      <th>avg_frequency_login_days</th>\n",
       "      <th>points_in_wallet</th>\n",
       "      <th>used_special_discount</th>\n",
       "      <th>offer_application_preference</th>\n",
       "      <th>past_complaint</th>\n",
       "      <th>complaint_status</th>\n",
       "      <th>feedback</th>\n",
       "      <th>churn_risk_score</th>\n",
       "    </tr>\n",
       "  </thead>\n",
       "  <tbody>\n",
       "    <tr>\n",
       "      <th>2</th>\n",
       "      <td>3279</td>\n",
       "      <td>14201</td>\n",
       "      <td>34</td>\n",
       "      <td>0</td>\n",
       "      <td>847</td>\n",
       "      <td>1</td>\n",
       "      <td>2</td>\n",
       "      <td>680</td>\n",
       "      <td>1</td>\n",
       "      <td>276</td>\n",
       "      <td>...</td>\n",
       "      <td>12080</td>\n",
       "      <td>7837</td>\n",
       "      <td>445</td>\n",
       "      <td>1725</td>\n",
       "      <td>0</td>\n",
       "      <td>1</td>\n",
       "      <td>1</td>\n",
       "      <td>3</td>\n",
       "      <td>3</td>\n",
       "      <td>5</td>\n",
       "    </tr>\n",
       "    <tr>\n",
       "      <th>3</th>\n",
       "      <td>18097</td>\n",
       "      <td>5884</td>\n",
       "      <td>27</td>\n",
       "      <td>1</td>\n",
       "      <td>18200</td>\n",
       "      <td>0</td>\n",
       "      <td>2</td>\n",
       "      <td>667</td>\n",
       "      <td>1</td>\n",
       "      <td>3415</td>\n",
       "      <td>...</td>\n",
       "      <td>1421</td>\n",
       "      <td>9459</td>\n",
       "      <td>932</td>\n",
       "      <td>3251</td>\n",
       "      <td>0</td>\n",
       "      <td>1</td>\n",
       "      <td>1</td>\n",
       "      <td>4</td>\n",
       "      <td>3</td>\n",
       "      <td>5</td>\n",
       "    </tr>\n",
       "    <tr>\n",
       "      <th>4</th>\n",
       "      <td>3372</td>\n",
       "      <td>13870</td>\n",
       "      <td>21</td>\n",
       "      <td>0</td>\n",
       "      <td>16661</td>\n",
       "      <td>0</td>\n",
       "      <td>2</td>\n",
       "      <td>985</td>\n",
       "      <td>0</td>\n",
       "      <td>7025</td>\n",
       "      <td>...</td>\n",
       "      <td>4046</td>\n",
       "      <td>9141</td>\n",
       "      <td>419</td>\n",
       "      <td>6840</td>\n",
       "      <td>0</td>\n",
       "      <td>1</td>\n",
       "      <td>1</td>\n",
       "      <td>2</td>\n",
       "      <td>3</td>\n",
       "      <td>5</td>\n",
       "    </tr>\n",
       "    <tr>\n",
       "      <th>6</th>\n",
       "      <td>613</td>\n",
       "      <td>2570</td>\n",
       "      <td>11</td>\n",
       "      <td>1</td>\n",
       "      <td>15665</td>\n",
       "      <td>1</td>\n",
       "      <td>1</td>\n",
       "      <td>77</td>\n",
       "      <td>1</td>\n",
       "      <td>1794</td>\n",
       "      <td>...</td>\n",
       "      <td>1522</td>\n",
       "      <td>3183</td>\n",
       "      <td>463</td>\n",
       "      <td>11649</td>\n",
       "      <td>1</td>\n",
       "      <td>0</td>\n",
       "      <td>1</td>\n",
       "      <td>3</td>\n",
       "      <td>0</td>\n",
       "      <td>3</td>\n",
       "    </tr>\n",
       "    <tr>\n",
       "      <th>10</th>\n",
       "      <td>15376</td>\n",
       "      <td>12934</td>\n",
       "      <td>15</td>\n",
       "      <td>0</td>\n",
       "      <td>14242</td>\n",
       "      <td>2</td>\n",
       "      <td>0</td>\n",
       "      <td>507</td>\n",
       "      <td>1</td>\n",
       "      <td>1126</td>\n",
       "      <td>...</td>\n",
       "      <td>12488</td>\n",
       "      <td>13335</td>\n",
       "      <td>940</td>\n",
       "      <td>8607</td>\n",
       "      <td>1</td>\n",
       "      <td>1</td>\n",
       "      <td>0</td>\n",
       "      <td>1</td>\n",
       "      <td>2</td>\n",
       "      <td>5</td>\n",
       "    </tr>\n",
       "  </tbody>\n",
       "</table>\n",
       "<p>5 rows × 25 columns</p>\n",
       "</div>"
      ],
      "text/plain": [
       "    customer_id   Name  age  gender  security_no  region_category  \\\n",
       "2          3279  14201   34       0          847                1   \n",
       "3         18097   5884   27       1        18200                0   \n",
       "4          3372  13870   21       0        16661                0   \n",
       "6           613   2570   11       1        15665                1   \n",
       "10        15376  12934   15       0        14242                2   \n",
       "\n",
       "    membership_category  joining_date  joined_through_referral  referral_id  \\\n",
       "2                     2           680                        1          276   \n",
       "3                     2           667                        1         3415   \n",
       "4                     2           985                        0         7025   \n",
       "6                     1            77                        1         1794   \n",
       "10                    0           507                        1         1126   \n",
       "\n",
       "    ...  avg_time_spent  avg_transaction_value  avg_frequency_login_days  \\\n",
       "2   ...           12080                   7837                       445   \n",
       "3   ...            1421                   9459                       932   \n",
       "4   ...            4046                   9141                       419   \n",
       "6   ...            1522                   3183                       463   \n",
       "10  ...           12488                  13335                       940   \n",
       "\n",
       "    points_in_wallet  used_special_discount  offer_application_preference  \\\n",
       "2               1725                      0                             1   \n",
       "3               3251                      0                             1   \n",
       "4               6840                      0                             1   \n",
       "6              11649                      1                             0   \n",
       "10              8607                      1                             1   \n",
       "\n",
       "    past_complaint  complaint_status  feedback  churn_risk_score  \n",
       "2                1                 3         3                 5  \n",
       "3                1                 4         3                 5  \n",
       "4                1                 2         3                 5  \n",
       "6                1                 3         0                 3  \n",
       "10               0                 1         2                 5  \n",
       "\n",
       "[5 rows x 25 columns]"
      ]
     },
     "execution_count": 9,
     "metadata": {},
     "output_type": "execute_result"
    }
   ],
   "source": [
    "df.head()"
   ]
  },
  {
   "cell_type": "code",
   "execution_count": 10,
   "metadata": {},
   "outputs": [],
   "source": [
    "from sklearn.model_selection import train_test_split\n",
    "X = df[['age', 'gender',\n",
    "       'region_category', 'membership_category', 'joining_date',\n",
    "       'joined_through_referral', 'preferred_offer_types',\n",
    "       'medium_of_operation', 'internet_option', 'last_visit_time',\n",
    "       'days_since_last_login', 'avg_time_spent', 'avg_transaction_value',\n",
    "       'avg_frequency_login_days', 'points_in_wallet', 'used_special_discount',\n",
    "       'offer_application_preference', 'past_complaint', 'complaint_status',\n",
    "       'feedback']]\n",
    "y = df[\"churn_risk_score\"]\n",
    "X_train, X_test, y_train, y_test = train_test_split(X, y, test_size=0.33, random_state=42)"
   ]
  },
  {
   "cell_type": "code",
   "execution_count": 11,
   "metadata": {},
   "outputs": [],
   "source": [
    "dt_model = DecisionTreeClassifier()"
   ]
  },
  {
   "cell_type": "code",
   "execution_count": 12,
   "metadata": {},
   "outputs": [
    {
     "data": {
      "text/plain": [
       "DecisionTreeClassifier()"
      ]
     },
     "execution_count": 12,
     "metadata": {},
     "output_type": "execute_result"
    }
   ],
   "source": [
    "dt_model.fit(X_train,y_train)"
   ]
  },
  {
   "cell_type": "code",
   "execution_count": 13,
   "metadata": {},
   "outputs": [],
   "source": [
    "y_pred = dt_model.predict(X_test)"
   ]
  },
  {
   "cell_type": "code",
   "execution_count": 15,
   "metadata": {},
   "outputs": [],
   "source": [
    "from sklearn.metrics import f1_score\n",
    "score = f1_score(y_test,y_pred,average='macro')"
   ]
  },
  {
   "cell_type": "code",
   "execution_count": 16,
   "metadata": {},
   "outputs": [
    {
     "data": {
      "text/plain": [
       "0.6160965973850226"
      ]
     },
     "execution_count": 16,
     "metadata": {},
     "output_type": "execute_result"
    }
   ],
   "source": [
    "score"
   ]
  },
  {
   "cell_type": "code",
   "execution_count": null,
   "metadata": {},
   "outputs": [],
   "source": []
  }
 ],
 "metadata": {
  "kernelspec": {
   "display_name": "Python 3",
   "language": "python",
   "name": "python3"
  },
  "language_info": {
   "codemirror_mode": {
    "name": "ipython",
    "version": 3
   },
   "file_extension": ".py",
   "mimetype": "text/x-python",
   "name": "python",
   "nbconvert_exporter": "python",
   "pygments_lexer": "ipython3",
   "version": "3.8.3"
  }
 },
 "nbformat": 4,
 "nbformat_minor": 4
}
