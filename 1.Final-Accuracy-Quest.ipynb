{
 "cells": [
  {
   "cell_type": "code",
   "execution_count": 171,
   "metadata": {},
   "outputs": [],
   "source": [
    "import pandas as pd\n",
    "import numpy as np"
   ]
  },
  {
   "cell_type": "code",
   "execution_count": 172,
   "metadata": {},
   "outputs": [],
   "source": [
    "df = pd.read_csv('dataset/train.csv')"
   ]
  },
  {
   "cell_type": "code",
   "execution_count": 173,
   "metadata": {},
   "outputs": [
    {
     "data": {
      "text/plain": [
       "(36992, 25)"
      ]
     },
     "execution_count": 173,
     "metadata": {},
     "output_type": "execute_result"
    }
   ],
   "source": [
    "df.shape"
   ]
  },
  {
   "cell_type": "code",
   "execution_count": 174,
   "metadata": {},
   "outputs": [
    {
     "data": {
      "text/plain": [
       "Index(['customer_id', 'Name', 'age', 'gender', 'security_no',\n",
       "       'region_category', 'membership_category', 'joining_date',\n",
       "       'joined_through_referral', 'referral_id', 'preferred_offer_types',\n",
       "       'medium_of_operation', 'internet_option', 'last_visit_time',\n",
       "       'days_since_last_login', 'avg_time_spent', 'avg_transaction_value',\n",
       "       'avg_frequency_login_days', 'points_in_wallet', 'used_special_discount',\n",
       "       'offer_application_preference', 'past_complaint', 'complaint_status',\n",
       "       'feedback', 'churn_risk_score'],\n",
       "      dtype='object')"
      ]
     },
     "execution_count": 174,
     "metadata": {},
     "output_type": "execute_result"
    }
   ],
   "source": [
    "df.columns"
   ]
  },
  {
   "cell_type": "code",
   "execution_count": 175,
   "metadata": {},
   "outputs": [],
   "source": [
    "def _joined_through_ref_cleaner(row):\n",
    "    yesOrNo = 'Yes' if row[\"referral_id\"] != 'xxxxxxxx' else 'No'\n",
    "    row['joined_through_referral'] = yesOrNo if (row['joined_through_referral'] == '?') else row['joined_through_referral']\n",
    "    return row\n",
    "\n",
    "def joined_through_ref_cleaner(df):\n",
    "    df2 = df.apply(lambda row:_joined_through_ref_cleaner(row),axis=1)\n",
    "    return df2"
   ]
  },
  {
   "cell_type": "code",
   "execution_count": 176,
   "metadata": {},
   "outputs": [],
   "source": [
    "def dropAllNA(df):\n",
    "    df[\"gender\"] = df[\"gender\"].replace(\"Unknown\",np.NaN)\n",
    "    df[\"avg_frequency_login_days\"] = df[\"avg_frequency_login_days\"].replace(\"Error\",np.NaN)\n",
    "    df[\"avg_frequency_login_days\"] = df[\"avg_frequency_login_days\"].replace(-999,0.0)\n",
    "    df[\"days_since_last_login\"] = df[\"days_since_last_login\"].replace(-999,30)\n",
    "#     df[\"medium_of_operation\"] = df[\"medium_of_operation\"].replace(\"?\",np.NaN)\n",
    "    \n",
    "    df['gender'].fillna(df[\"gender\"].value_counts().index[0],inplace=True)\n",
    "    df['avg_frequency_login_days'].fillna(df[df[\"avg_frequency_login_days\"] != -999]['avg_frequency_login_days'].astype('float64').mean(),inplace=True)\n",
    "    df['medium_of_operation'].fillna(df[\"medium_of_operation\"].value_counts().index[0],inplace=True)\n",
    "    df['region_category'].fillna(df[\"region_category\"].value_counts().index[0],inplace=True)\n",
    "#     df['preferred_offer_types'].fillna(df[\"preferred_offer_types\"].value_counts().index[0],inplace=True)\n",
    "    \n",
    "#     df[df[\"avg_time_spent\"]<0]['avg_time_spent'] = df[df[\"avg_time_spent\"]>0]['avg_time_spent'].astype('float64').mean()\n",
    "    df[\"avg_time_spent\"]=df[\"avg_time_spent\"].astype('float64').abs()\n",
    "    \n",
    "    df['points_in_wallet'].fillna(df[\"points_in_wallet\"].astype('float64').mean(),inplace=True)\n",
    "    df['points_in_wallet'] = df['points_in_wallet'].astype('float64').abs()\n",
    "    df['avg_frequency_login_days'] = df['avg_frequency_login_days'].astype(\"float64\")\n",
    "    return df"
   ]
  },
  {
   "cell_type": "code",
   "execution_count": 177,
   "metadata": {},
   "outputs": [],
   "source": [
    "df = dropAllNA(df)"
   ]
  },
  {
   "cell_type": "markdown",
   "metadata": {},
   "source": [
    "### Negative Churn Rate Fixing"
   ]
  },
  {
   "cell_type": "code",
   "execution_count": 178,
   "metadata": {},
   "outputs": [
    {
     "name": "stderr",
     "output_type": "stream",
     "text": [
      "<ipython-input-178-7a577168105a>:6: SettingWithCopyWarning: \n",
      "A value is trying to be set on a copy of a slice from a DataFrame.\n",
      "Try using .loc[row_indexer,col_indexer] = value instead\n",
      "\n",
      "See the caveats in the documentation: https://pandas.pydata.org/pandas-docs/stable/user_guide/indexing.html#returning-a-view-versus-a-copy\n",
      "  df[(df[\"churn_risk_score\"]<0)][\"churn_risk_score\"] = int(0)\n"
     ]
    }
   ],
   "source": [
    "# Cleaning the Null and Negative values\n",
    "# df = df[df[\"churn_risk_score\"]>=0]\n",
    "\n",
    "# changinng negative values to zero\n",
    "# df[\"churn_risk_score\"] = np.where((df[\"churn_risk_score\"] < 0),0,df[\"churn_risk_score\"])\n",
    "df[(df[\"churn_risk_score\"]<0)][\"churn_risk_score\"] = int(0)\n",
    "df[df[\"churn_risk_score\"] > 5][\"churn_risk_score\"] = int(5)"
   ]
  },
  {
   "cell_type": "markdown",
   "metadata": {},
   "source": [
    "### joining_date_col convert to days to start"
   ]
  },
  {
   "cell_type": "code",
   "execution_count": 179,
   "metadata": {},
   "outputs": [],
   "source": [
    "# Joining Date Columns Converted to Int\n",
    "joining_date_col = pd.to_datetime(df[\"joining_date\"])"
   ]
  },
  {
   "cell_type": "code",
   "execution_count": 180,
   "metadata": {},
   "outputs": [],
   "source": [
    "df[\"joining_date\"] = pd.to_datetime(df[\"joining_date\"])  - joining_date_col.min()"
   ]
  },
  {
   "cell_type": "code",
   "execution_count": 181,
   "metadata": {},
   "outputs": [
    {
     "data": {
      "text/plain": [
       "0    959.0\n",
       "1    970.0\n",
       "2    680.0\n",
       "3    667.0\n",
       "4    985.0\n",
       "5    372.0\n",
       "6     77.0\n",
       "7    558.0\n",
       "8    713.0\n",
       "9    699.0\n",
       "Name: joining_date, dtype: float64"
      ]
     },
     "execution_count": 181,
     "metadata": {},
     "output_type": "execute_result"
    }
   ],
   "source": [
    "# df[\"joining_date\"].value_counts()\n",
    "df[\"joining_date\"] = df[\"joining_date\"] / np.timedelta64(1, 'D')\n",
    "df[\"joining_date\"][0:10]"
   ]
  },
  {
   "cell_type": "code",
   "execution_count": 182,
   "metadata": {},
   "outputs": [
    {
     "data": {
      "text/plain": [
       "0    1900-01-01 16:08:02\n",
       "1    1900-01-01 12:38:13\n",
       "2    1900-01-01 22:53:21\n",
       "3    1900-01-01 15:57:50\n",
       "4    1900-01-01 15:46:44\n",
       "5    1900-01-01 06:46:07\n",
       "6    1900-01-01 11:40:04\n",
       "7    1900-01-01 07:52:43\n",
       "8    1900-01-01 06:50:10\n",
       "9    1900-01-01 19:10:16\n",
       "10   1900-01-01 05:57:20\n",
       "11   1900-01-01 11:56:11\n",
       "12   1900-01-01 04:42:50\n",
       "13   1900-01-01 08:35:05\n",
       "14   1900-01-01 21:01:43\n",
       "15   1900-01-01 13:48:22\n",
       "16   1900-01-01 20:58:28\n",
       "17   1900-01-01 03:42:26\n",
       "18   1900-01-01 15:39:05\n",
       "19   1900-01-01 11:46:54\n",
       "Name: last_visit_time, dtype: datetime64[ns]"
      ]
     },
     "execution_count": 182,
     "metadata": {},
     "output_type": "execute_result"
    }
   ],
   "source": [
    "# last_visit_time col here\n",
    "pd.to_datetime(df[\"last_visit_time\"],format=\"%H:%M:%S\")[0:20]"
   ]
  },
  {
   "cell_type": "markdown",
   "metadata": {},
   "source": [
    "### last_visit_ns -> Last Visit Column to Float"
   ]
  },
  {
   "cell_type": "code",
   "execution_count": 183,
   "metadata": {},
   "outputs": [],
   "source": [
    "# pd.TimeStamp(pd.to_datetime(df[\"last_visit_time\"],format=\"%H:%M:%S\"))\n",
    "last_visit_ns = pd.to_datetime(df[\"last_visit_time\"],format=\"%H:%M:%S\")"
   ]
  },
  {
   "cell_type": "code",
   "execution_count": 184,
   "metadata": {},
   "outputs": [
    {
     "name": "stderr",
     "output_type": "stream",
     "text": [
      "<ipython-input-184-3235a64cf489>:1: DeprecationWarning: parsing timezone aware datetimes is deprecated; this will raise an error in the future\n",
      "  ts = (last_visit_ns - np.datetime64('1900-01-01T00:00:00Z')) / np.timedelta64(1, 's')\n"
     ]
    }
   ],
   "source": [
    "ts = (last_visit_ns - np.datetime64('1900-01-01T00:00:00Z')) / np.timedelta64(1, 's')"
   ]
  },
  {
   "cell_type": "code",
   "execution_count": 185,
   "metadata": {},
   "outputs": [
    {
     "data": {
      "text/plain": [
       "0        58082.0\n",
       "1        45493.0\n",
       "2        82401.0\n",
       "3        57470.0\n",
       "4        56804.0\n",
       "          ...   \n",
       "36987    15245.0\n",
       "36988    83911.0\n",
       "36989    13825.0\n",
       "36990    35403.0\n",
       "36991     5992.0\n",
       "Name: last_visit_time, Length: 36992, dtype: float64"
      ]
     },
     "execution_count": 185,
     "metadata": {},
     "output_type": "execute_result"
    }
   ],
   "source": [
    "ts"
   ]
  },
  {
   "cell_type": "code",
   "execution_count": 186,
   "metadata": {},
   "outputs": [],
   "source": [
    "df[\"last_visit_time\"] = ts"
   ]
  },
  {
   "cell_type": "code",
   "execution_count": 187,
   "metadata": {},
   "outputs": [],
   "source": [
    "df = df.dropna()"
   ]
  },
  {
   "cell_type": "code",
   "execution_count": null,
   "metadata": {},
   "outputs": [],
   "source": []
  },
  {
   "cell_type": "code",
   "execution_count": 188,
   "metadata": {},
   "outputs": [
    {
     "data": {
      "text/plain": [
       "(36704, 25)"
      ]
     },
     "execution_count": 188,
     "metadata": {},
     "output_type": "execute_result"
    }
   ],
   "source": [
    "df.shape"
   ]
  },
  {
   "cell_type": "code",
   "execution_count": 189,
   "metadata": {},
   "outputs": [
    {
     "data": {
      "text/plain": [
       "customer_id                     36704\n",
       "Name                            36704\n",
       "age                             36704\n",
       "gender                          36704\n",
       "security_no                     36704\n",
       "region_category                 36704\n",
       "membership_category             36704\n",
       "joining_date                    36704\n",
       "joined_through_referral         36704\n",
       "referral_id                     36704\n",
       "preferred_offer_types           36704\n",
       "medium_of_operation             36704\n",
       "internet_option                 36704\n",
       "last_visit_time                 36704\n",
       "days_since_last_login           36704\n",
       "avg_time_spent                  36704\n",
       "avg_transaction_value           36704\n",
       "avg_frequency_login_days        36704\n",
       "points_in_wallet                36704\n",
       "used_special_discount           36704\n",
       "offer_application_preference    36704\n",
       "past_complaint                  36704\n",
       "complaint_status                36704\n",
       "feedback                        36704\n",
       "churn_risk_score                36704\n",
       "dtype: int64"
      ]
     },
     "execution_count": 189,
     "metadata": {},
     "output_type": "execute_result"
    }
   ],
   "source": [
    "df.isna().count()"
   ]
  },
  {
   "cell_type": "code",
   "execution_count": 190,
   "metadata": {},
   "outputs": [],
   "source": [
    "from sklearn import preprocessing\n",
    "label_encoder = preprocessing.LabelEncoder()"
   ]
  },
  {
   "cell_type": "code",
   "execution_count": 191,
   "metadata": {},
   "outputs": [
    {
     "data": {
      "text/plain": [
       "customer_id                      object\n",
       "Name                             object\n",
       "age                               int64\n",
       "gender                           object\n",
       "security_no                      object\n",
       "region_category                  object\n",
       "membership_category              object\n",
       "joining_date                    float64\n",
       "joined_through_referral          object\n",
       "referral_id                      object\n",
       "preferred_offer_types            object\n",
       "medium_of_operation              object\n",
       "internet_option                  object\n",
       "last_visit_time                 float64\n",
       "days_since_last_login             int64\n",
       "avg_time_spent                  float64\n",
       "avg_transaction_value           float64\n",
       "avg_frequency_login_days        float64\n",
       "points_in_wallet                float64\n",
       "used_special_discount            object\n",
       "offer_application_preference     object\n",
       "past_complaint                   object\n",
       "complaint_status                 object\n",
       "feedback                         object\n",
       "churn_risk_score                  int64\n",
       "dtype: object"
      ]
     },
     "execution_count": 191,
     "metadata": {},
     "output_type": "execute_result"
    }
   ],
   "source": [
    "df.dtypes"
   ]
  },
  {
   "cell_type": "code",
   "execution_count": 192,
   "metadata": {},
   "outputs": [],
   "source": [
    "df2 = df.select_dtypes(include=\"object\")#.astype(str).apply(label_encoder.fit_transform)\n",
    "df2 = df2.apply(label_encoder.fit_transform)"
   ]
  },
  {
   "cell_type": "code",
   "execution_count": 193,
   "metadata": {},
   "outputs": [
    {
     "data": {
      "text/html": [
       "<div>\n",
       "<style scoped>\n",
       "    .dataframe tbody tr th:only-of-type {\n",
       "        vertical-align: middle;\n",
       "    }\n",
       "\n",
       "    .dataframe tbody tr th {\n",
       "        vertical-align: top;\n",
       "    }\n",
       "\n",
       "    .dataframe thead th {\n",
       "        text-align: right;\n",
       "    }\n",
       "</style>\n",
       "<table border=\"1\" class=\"dataframe\">\n",
       "  <thead>\n",
       "    <tr style=\"text-align: right;\">\n",
       "      <th></th>\n",
       "      <th>customer_id</th>\n",
       "      <th>Name</th>\n",
       "      <th>gender</th>\n",
       "      <th>security_no</th>\n",
       "      <th>region_category</th>\n",
       "      <th>membership_category</th>\n",
       "      <th>joined_through_referral</th>\n",
       "      <th>referral_id</th>\n",
       "      <th>preferred_offer_types</th>\n",
       "      <th>medium_of_operation</th>\n",
       "      <th>internet_option</th>\n",
       "      <th>used_special_discount</th>\n",
       "      <th>offer_application_preference</th>\n",
       "      <th>past_complaint</th>\n",
       "      <th>complaint_status</th>\n",
       "      <th>feedback</th>\n",
       "    </tr>\n",
       "  </thead>\n",
       "  <tbody>\n",
       "    <tr>\n",
       "      <th>0</th>\n",
       "      <td>31989</td>\n",
       "      <td>28454</td>\n",
       "      <td>0</td>\n",
       "      <td>34539</td>\n",
       "      <td>2</td>\n",
       "      <td>3</td>\n",
       "      <td>1</td>\n",
       "      <td>11301</td>\n",
       "      <td>1</td>\n",
       "      <td>0</td>\n",
       "      <td>2</td>\n",
       "      <td>1</td>\n",
       "      <td>1</td>\n",
       "      <td>0</td>\n",
       "      <td>1</td>\n",
       "      <td>4</td>\n",
       "    </tr>\n",
       "    <tr>\n",
       "      <th>1</th>\n",
       "      <td>6996</td>\n",
       "      <td>34675</td>\n",
       "      <td>0</td>\n",
       "      <td>5761</td>\n",
       "      <td>0</td>\n",
       "      <td>4</td>\n",
       "      <td>0</td>\n",
       "      <td>2217</td>\n",
       "      <td>1</td>\n",
       "      <td>2</td>\n",
       "      <td>1</td>\n",
       "      <td>1</td>\n",
       "      <td>0</td>\n",
       "      <td>1</td>\n",
       "      <td>2</td>\n",
       "      <td>5</td>\n",
       "    </tr>\n",
       "    <tr>\n",
       "      <th>2</th>\n",
       "      <td>5864</td>\n",
       "      <td>25121</td>\n",
       "      <td>0</td>\n",
       "      <td>1521</td>\n",
       "      <td>1</td>\n",
       "      <td>2</td>\n",
       "      <td>2</td>\n",
       "      <td>469</td>\n",
       "      <td>1</td>\n",
       "      <td>2</td>\n",
       "      <td>2</td>\n",
       "      <td>0</td>\n",
       "      <td>1</td>\n",
       "      <td>1</td>\n",
       "      <td>3</td>\n",
       "      <td>3</td>\n",
       "    </tr>\n",
       "    <tr>\n",
       "      <th>3</th>\n",
       "      <td>32145</td>\n",
       "      <td>10387</td>\n",
       "      <td>1</td>\n",
       "      <td>32248</td>\n",
       "      <td>0</td>\n",
       "      <td>2</td>\n",
       "      <td>2</td>\n",
       "      <td>5481</td>\n",
       "      <td>1</td>\n",
       "      <td>2</td>\n",
       "      <td>1</td>\n",
       "      <td>0</td>\n",
       "      <td>1</td>\n",
       "      <td>1</td>\n",
       "      <td>4</td>\n",
       "      <td>3</td>\n",
       "    </tr>\n",
       "    <tr>\n",
       "      <th>4</th>\n",
       "      <td>6022</td>\n",
       "      <td>24515</td>\n",
       "      <td>0</td>\n",
       "      <td>29584</td>\n",
       "      <td>0</td>\n",
       "      <td>2</td>\n",
       "      <td>1</td>\n",
       "      <td>11301</td>\n",
       "      <td>0</td>\n",
       "      <td>3</td>\n",
       "      <td>1</td>\n",
       "      <td>0</td>\n",
       "      <td>1</td>\n",
       "      <td>1</td>\n",
       "      <td>2</td>\n",
       "      <td>3</td>\n",
       "    </tr>\n",
       "  </tbody>\n",
       "</table>\n",
       "</div>"
      ],
      "text/plain": [
       "   customer_id   Name  gender  security_no  region_category  \\\n",
       "0        31989  28454       0        34539                2   \n",
       "1         6996  34675       0         5761                0   \n",
       "2         5864  25121       0         1521                1   \n",
       "3        32145  10387       1        32248                0   \n",
       "4         6022  24515       0        29584                0   \n",
       "\n",
       "   membership_category  joined_through_referral  referral_id  \\\n",
       "0                    3                        1        11301   \n",
       "1                    4                        0         2217   \n",
       "2                    2                        2          469   \n",
       "3                    2                        2         5481   \n",
       "4                    2                        1        11301   \n",
       "\n",
       "   preferred_offer_types  medium_of_operation  internet_option  \\\n",
       "0                      1                    0                2   \n",
       "1                      1                    2                1   \n",
       "2                      1                    2                2   \n",
       "3                      1                    2                1   \n",
       "4                      0                    3                1   \n",
       "\n",
       "   used_special_discount  offer_application_preference  past_complaint  \\\n",
       "0                      1                             1               0   \n",
       "1                      1                             0               1   \n",
       "2                      0                             1               1   \n",
       "3                      0                             1               1   \n",
       "4                      0                             1               1   \n",
       "\n",
       "   complaint_status  feedback  \n",
       "0                 1         4  \n",
       "1                 2         5  \n",
       "2                 3         3  \n",
       "3                 4         3  \n",
       "4                 2         3  "
      ]
     },
     "execution_count": 193,
     "metadata": {},
     "output_type": "execute_result"
    }
   ],
   "source": [
    "df2.head()"
   ]
  },
  {
   "cell_type": "code",
   "execution_count": 194,
   "metadata": {},
   "outputs": [
    {
     "name": "stderr",
     "output_type": "stream",
     "text": [
      "C:\\Users\\MAYANK\\anaconda3\\lib\\site-packages\\pandas\\core\\frame.py:2963: SettingWithCopyWarning: \n",
      "A value is trying to be set on a copy of a slice from a DataFrame.\n",
      "Try using .loc[row_indexer,col_indexer] = value instead\n",
      "\n",
      "See the caveats in the documentation: https://pandas.pydata.org/pandas-docs/stable/user_guide/indexing.html#returning-a-view-versus-a-copy\n",
      "  self[k1] = value[k2]\n"
     ]
    }
   ],
   "source": [
    "from sklearn.model_selection import train_test_split\n",
    "X = df2[[\n",
    "        'membership_category', \n",
    "       'joined_through_referral', 'preferred_offer_types',\n",
    "       'medium_of_operation'\n",
    "       , 'used_special_discount',\n",
    "       'offer_application_preference', 'past_complaint', 'complaint_status',\n",
    "       'feedback']]\n",
    "X[['avg_frequency_login_days','points_in_wallet', 'avg_time_spent', 'last_visit_time', 'joining_date', 'days_since_last_login', 'avg_transaction_value']] = df[['avg_frequency_login_days','points_in_wallet', 'avg_time_spent', 'last_visit_time', 'joining_date', 'days_since_last_login', 'avg_transaction_value']]\n",
    "y = df[\"churn_risk_score\"]\n",
    "X_train, X_test, y_train, y_test = train_test_split(X, y, test_size=0.05, random_state=121)\n",
    "# print(X.shape,y.shape)"
   ]
  },
  {
   "cell_type": "code",
   "execution_count": 195,
   "metadata": {},
   "outputs": [
    {
     "data": {
      "text/plain": [
       "<matplotlib.axes._subplots.AxesSubplot at 0x1b507b20f70>"
      ]
     },
     "execution_count": 195,
     "metadata": {},
     "output_type": "execute_result"
    },
    {
     "data": {
      "image/png": "[encoded data removed]",
      "text/plain": [
       "<Figure size 432x288 with 2 Axes>"
      ]
     },
     "metadata": {
      "needs_background": "light"
     },
     "output_type": "display_data"
    }
   ],
   "source": [
    "import seaborn as sns\n",
    "sns.heatmap(X.corr())"
   ]
  },
  {
   "cell_type": "code",
   "execution_count": 196,
   "metadata": {},
   "outputs": [
    {
     "data": {
      "text/html": [
       "<div>\n",
       "<style scoped>\n",
       "    .dataframe tbody tr th:only-of-type {\n",
       "        vertical-align: middle;\n",
       "    }\n",
       "\n",
       "    .dataframe tbody tr th {\n",
       "        vertical-align: top;\n",
       "    }\n",
       "\n",
       "    .dataframe thead th {\n",
       "        text-align: right;\n",
       "    }\n",
       "</style>\n",
       "<table border=\"1\" class=\"dataframe\">\n",
       "  <thead>\n",
       "    <tr style=\"text-align: right;\">\n",
       "      <th></th>\n",
       "      <th>membership_category</th>\n",
       "      <th>joined_through_referral</th>\n",
       "      <th>preferred_offer_types</th>\n",
       "      <th>medium_of_operation</th>\n",
       "      <th>used_special_discount</th>\n",
       "      <th>offer_application_preference</th>\n",
       "      <th>past_complaint</th>\n",
       "      <th>complaint_status</th>\n",
       "      <th>feedback</th>\n",
       "      <th>avg_frequency_login_days</th>\n",
       "      <th>points_in_wallet</th>\n",
       "      <th>avg_time_spent</th>\n",
       "      <th>last_visit_time</th>\n",
       "      <th>joining_date</th>\n",
       "      <th>days_since_last_login</th>\n",
       "      <th>avg_transaction_value</th>\n",
       "    </tr>\n",
       "  </thead>\n",
       "  <tbody>\n",
       "    <tr>\n",
       "      <th>0</th>\n",
       "      <td>3</td>\n",
       "      <td>1</td>\n",
       "      <td>1</td>\n",
       "      <td>0</td>\n",
       "      <td>1</td>\n",
       "      <td>1</td>\n",
       "      <td>0</td>\n",
       "      <td>1</td>\n",
       "      <td>4</td>\n",
       "      <td>17.0</td>\n",
       "      <td>781.750000</td>\n",
       "      <td>300.63</td>\n",
       "      <td>58082.0</td>\n",
       "      <td>959.0</td>\n",
       "      <td>17</td>\n",
       "      <td>53005.25</td>\n",
       "    </tr>\n",
       "    <tr>\n",
       "      <th>1</th>\n",
       "      <td>4</td>\n",
       "      <td>0</td>\n",
       "      <td>1</td>\n",
       "      <td>2</td>\n",
       "      <td>1</td>\n",
       "      <td>0</td>\n",
       "      <td>1</td>\n",
       "      <td>2</td>\n",
       "      <td>5</td>\n",
       "      <td>10.0</td>\n",
       "      <td>686.882199</td>\n",
       "      <td>306.34</td>\n",
       "      <td>45493.0</td>\n",
       "      <td>970.0</td>\n",
       "      <td>16</td>\n",
       "      <td>12838.38</td>\n",
       "    </tr>\n",
       "    <tr>\n",
       "      <th>2</th>\n",
       "      <td>2</td>\n",
       "      <td>2</td>\n",
       "      <td>1</td>\n",
       "      <td>2</td>\n",
       "      <td>0</td>\n",
       "      <td>1</td>\n",
       "      <td>1</td>\n",
       "      <td>3</td>\n",
       "      <td>3</td>\n",
       "      <td>22.0</td>\n",
       "      <td>500.690000</td>\n",
       "      <td>516.16</td>\n",
       "      <td>82401.0</td>\n",
       "      <td>680.0</td>\n",
       "      <td>14</td>\n",
       "      <td>21027.00</td>\n",
       "    </tr>\n",
       "    <tr>\n",
       "      <th>3</th>\n",
       "      <td>2</td>\n",
       "      <td>2</td>\n",
       "      <td>1</td>\n",
       "      <td>2</td>\n",
       "      <td>0</td>\n",
       "      <td>1</td>\n",
       "      <td>1</td>\n",
       "      <td>4</td>\n",
       "      <td>3</td>\n",
       "      <td>6.0</td>\n",
       "      <td>567.660000</td>\n",
       "      <td>53.27</td>\n",
       "      <td>57470.0</td>\n",
       "      <td>667.0</td>\n",
       "      <td>11</td>\n",
       "      <td>25239.56</td>\n",
       "    </tr>\n",
       "    <tr>\n",
       "      <th>4</th>\n",
       "      <td>2</td>\n",
       "      <td>1</td>\n",
       "      <td>0</td>\n",
       "      <td>3</td>\n",
       "      <td>0</td>\n",
       "      <td>1</td>\n",
       "      <td>1</td>\n",
       "      <td>2</td>\n",
       "      <td>3</td>\n",
       "      <td>16.0</td>\n",
       "      <td>663.060000</td>\n",
       "      <td>113.13</td>\n",
       "      <td>56804.0</td>\n",
       "      <td>985.0</td>\n",
       "      <td>20</td>\n",
       "      <td>24483.66</td>\n",
       "    </tr>\n",
       "  </tbody>\n",
       "</table>\n",
       "</div>"
      ],
      "text/plain": [
       "   membership_category  joined_through_referral  preferred_offer_types  \\\n",
       "0                    3                        1                      1   \n",
       "1                    4                        0                      1   \n",
       "2                    2                        2                      1   \n",
       "3                    2                        2                      1   \n",
       "4                    2                        1                      0   \n",
       "\n",
       "   medium_of_operation  used_special_discount  offer_application_preference  \\\n",
       "0                    0                      1                             1   \n",
       "1                    2                      1                             0   \n",
       "2                    2                      0                             1   \n",
       "3                    2                      0                             1   \n",
       "4                    3                      0                             1   \n",
       "\n",
       "   past_complaint  complaint_status  feedback  avg_frequency_login_days  \\\n",
       "0               0                 1         4                      17.0   \n",
       "1               1                 2         5                      10.0   \n",
       "2               1                 3         3                      22.0   \n",
       "3               1                 4         3                       6.0   \n",
       "4               1                 2         3                      16.0   \n",
       "\n",
       "   points_in_wallet  avg_time_spent  last_visit_time  joining_date  \\\n",
       "0        781.750000          300.63          58082.0         959.0   \n",
       "1        686.882199          306.34          45493.0         970.0   \n",
       "2        500.690000          516.16          82401.0         680.0   \n",
       "3        567.660000           53.27          57470.0         667.0   \n",
       "4        663.060000          113.13          56804.0         985.0   \n",
       "\n",
       "   days_since_last_login  avg_transaction_value  \n",
       "0                     17               53005.25  \n",
       "1                     16               12838.38  \n",
       "2                     14               21027.00  \n",
       "3                     11               25239.56  \n",
       "4                     20               24483.66  "
      ]
     },
     "execution_count": 196,
     "metadata": {},
     "output_type": "execute_result"
    }
   ],
   "source": [
    "X.head()"
   ]
  },
  {
   "cell_type": "code",
   "execution_count": 197,
   "metadata": {},
   "outputs": [],
   "source": [
    "from sklearn.linear_model import LinearRegression\n",
    "from sklearn.ensemble import RandomForestClassifier\n",
    "model = RandomForestClassifier()"
   ]
  },
  {
   "cell_type": "code",
   "execution_count": 198,
   "metadata": {},
   "outputs": [
    {
     "data": {
      "text/plain": [
       "RandomForestClassifier()"
      ]
     },
     "execution_count": 198,
     "metadata": {},
     "output_type": "execute_result"
    }
   ],
   "source": [
    "model.fit(X_train,y_train)"
   ]
  },
  {
   "cell_type": "code",
   "execution_count": 199,
   "metadata": {},
   "outputs": [],
   "source": [
    "y_pred = model.predict(X_test)"
   ]
  },
  {
   "cell_type": "code",
   "execution_count": 200,
   "metadata": {},
   "outputs": [
    {
     "data": {
      "text/plain": [
       "0.6284062517219255"
      ]
     },
     "execution_count": 200,
     "metadata": {},
     "output_type": "execute_result"
    }
   ],
   "source": [
    "from sklearn.metrics import f1_score,mean_squared_error\n",
    "score = f1_score(y_test, y_pred,average=\"macro\")\n",
    "score"
   ]
  },
  {
   "cell_type": "code",
   "execution_count": 201,
   "metadata": {},
   "outputs": [],
   "source": [
    "result_df = pd.DataFrame({\n",
    "    \"churn_risk_score\":y_pred\n",
    "})"
   ]
  },
  {
   "cell_type": "code",
   "execution_count": 202,
   "metadata": {},
   "outputs": [
    {
     "data": {
      "text/html": [
       "<div>\n",
       "<style scoped>\n",
       "    .dataframe tbody tr th:only-of-type {\n",
       "        vertical-align: middle;\n",
       "    }\n",
       "\n",
       "    .dataframe tbody tr th {\n",
       "        vertical-align: top;\n",
       "    }\n",
       "\n",
       "    .dataframe thead th {\n",
       "        text-align: right;\n",
       "    }\n",
       "</style>\n",
       "<table border=\"1\" class=\"dataframe\">\n",
       "  <thead>\n",
       "    <tr style=\"text-align: right;\">\n",
       "      <th></th>\n",
       "      <th>churn_risk_score</th>\n",
       "    </tr>\n",
       "  </thead>\n",
       "  <tbody>\n",
       "    <tr>\n",
       "      <th>0</th>\n",
       "      <td>5</td>\n",
       "    </tr>\n",
       "    <tr>\n",
       "      <th>1</th>\n",
       "      <td>1</td>\n",
       "    </tr>\n",
       "    <tr>\n",
       "      <th>2</th>\n",
       "      <td>3</td>\n",
       "    </tr>\n",
       "    <tr>\n",
       "      <th>3</th>\n",
       "      <td>3</td>\n",
       "    </tr>\n",
       "    <tr>\n",
       "      <th>4</th>\n",
       "      <td>5</td>\n",
       "    </tr>\n",
       "    <tr>\n",
       "      <th>...</th>\n",
       "      <td>...</td>\n",
       "    </tr>\n",
       "    <tr>\n",
       "      <th>1831</th>\n",
       "      <td>4</td>\n",
       "    </tr>\n",
       "    <tr>\n",
       "      <th>1832</th>\n",
       "      <td>4</td>\n",
       "    </tr>\n",
       "    <tr>\n",
       "      <th>1833</th>\n",
       "      <td>3</td>\n",
       "    </tr>\n",
       "    <tr>\n",
       "      <th>1834</th>\n",
       "      <td>3</td>\n",
       "    </tr>\n",
       "    <tr>\n",
       "      <th>1835</th>\n",
       "      <td>4</td>\n",
       "    </tr>\n",
       "  </tbody>\n",
       "</table>\n",
       "<p>1836 rows × 1 columns</p>\n",
       "</div>"
      ],
      "text/plain": [
       "      churn_risk_score\n",
       "0                    5\n",
       "1                    1\n",
       "2                    3\n",
       "3                    3\n",
       "4                    5\n",
       "...                ...\n",
       "1831                 4\n",
       "1832                 4\n",
       "1833                 3\n",
       "1834                 3\n",
       "1835                 4\n",
       "\n",
       "[1836 rows x 1 columns]"
      ]
     },
     "execution_count": 202,
     "metadata": {},
     "output_type": "execute_result"
    }
   ],
   "source": [
    "result_df"
   ]
  },
  {
   "cell_type": "code",
   "execution_count": 203,
   "metadata": {},
   "outputs": [
    {
     "data": {
      "text/html": [
       "<div>\n",
       "<style scoped>\n",
       "    .dataframe tbody tr th:only-of-type {\n",
       "        vertical-align: middle;\n",
       "    }\n",
       "\n",
       "    .dataframe tbody tr th {\n",
       "        vertical-align: top;\n",
       "    }\n",
       "\n",
       "    .dataframe thead th {\n",
       "        text-align: right;\n",
       "    }\n",
       "</style>\n",
       "<table border=\"1\" class=\"dataframe\">\n",
       "  <thead>\n",
       "    <tr style=\"text-align: right;\">\n",
       "      <th></th>\n",
       "      <th>customer_id</th>\n",
       "      <th>Name</th>\n",
       "      <th>age</th>\n",
       "      <th>gender</th>\n",
       "      <th>security_no</th>\n",
       "      <th>region_category</th>\n",
       "      <th>membership_category</th>\n",
       "      <th>joining_date</th>\n",
       "      <th>joined_through_referral</th>\n",
       "      <th>referral_id</th>\n",
       "      <th>...</th>\n",
       "      <th>days_since_last_login</th>\n",
       "      <th>avg_time_spent</th>\n",
       "      <th>avg_transaction_value</th>\n",
       "      <th>avg_frequency_login_days</th>\n",
       "      <th>points_in_wallet</th>\n",
       "      <th>used_special_discount</th>\n",
       "      <th>offer_application_preference</th>\n",
       "      <th>past_complaint</th>\n",
       "      <th>complaint_status</th>\n",
       "      <th>feedback</th>\n",
       "    </tr>\n",
       "  </thead>\n",
       "  <tbody>\n",
       "    <tr>\n",
       "      <th>0</th>\n",
       "      <td>fffe43004900440031003700300030003400</td>\n",
       "      <td>Alethia Meints</td>\n",
       "      <td>50</td>\n",
       "      <td>F</td>\n",
       "      <td>OQJ1XAY</td>\n",
       "      <td>Village</td>\n",
       "      <td>Premium Membership</td>\n",
       "      <td>2015-11-02</td>\n",
       "      <td>No</td>\n",
       "      <td>xxxxxxxx</td>\n",
       "      <td>...</td>\n",
       "      <td>12</td>\n",
       "      <td>386.26</td>\n",
       "      <td>40721.44</td>\n",
       "      <td>7.0</td>\n",
       "      <td>733.830000</td>\n",
       "      <td>Yes</td>\n",
       "      <td>No</td>\n",
       "      <td>No</td>\n",
       "      <td>Not Applicable</td>\n",
       "      <td>Poor Product Quality</td>\n",
       "    </tr>\n",
       "    <tr>\n",
       "      <th>1</th>\n",
       "      <td>fffe43004900440031003900370037003300</td>\n",
       "      <td>Ming Lopez</td>\n",
       "      <td>41</td>\n",
       "      <td>M</td>\n",
       "      <td>OUQRPKO</td>\n",
       "      <td>Village</td>\n",
       "      <td>Gold Membership</td>\n",
       "      <td>2016-03-01</td>\n",
       "      <td>No</td>\n",
       "      <td>xxxxxxxx</td>\n",
       "      <td>...</td>\n",
       "      <td>11</td>\n",
       "      <td>37.80</td>\n",
       "      <td>9644.40</td>\n",
       "      <td>9.0</td>\n",
       "      <td>726.000000</td>\n",
       "      <td>Yes</td>\n",
       "      <td>No</td>\n",
       "      <td>No</td>\n",
       "      <td>Not Applicable</td>\n",
       "      <td>Poor Website</td>\n",
       "    </tr>\n",
       "    <tr>\n",
       "      <th>2</th>\n",
       "      <td>fffe43004900440034003800360037003000</td>\n",
       "      <td>Carina Flannigan</td>\n",
       "      <td>31</td>\n",
       "      <td>F</td>\n",
       "      <td>02J2RE7</td>\n",
       "      <td>Town</td>\n",
       "      <td>Silver Membership</td>\n",
       "      <td>2017-03-03</td>\n",
       "      <td>No</td>\n",
       "      <td>xxxxxxxx</td>\n",
       "      <td>...</td>\n",
       "      <td>18</td>\n",
       "      <td>215.36</td>\n",
       "      <td>3693.25</td>\n",
       "      <td>21.0</td>\n",
       "      <td>713.780000</td>\n",
       "      <td>Yes</td>\n",
       "      <td>No</td>\n",
       "      <td>Yes</td>\n",
       "      <td>Solved in Follow-up</td>\n",
       "      <td>No reason specified</td>\n",
       "    </tr>\n",
       "    <tr>\n",
       "      <th>3</th>\n",
       "      <td>fffe43004900440036003200370033003400</td>\n",
       "      <td>Kyung Wanner</td>\n",
       "      <td>64</td>\n",
       "      <td>M</td>\n",
       "      <td>5YEQIF1</td>\n",
       "      <td>Town</td>\n",
       "      <td>Silver Membership</td>\n",
       "      <td>2017-08-18</td>\n",
       "      <td>Yes</td>\n",
       "      <td>CID8941</td>\n",
       "      <td>...</td>\n",
       "      <td>-999</td>\n",
       "      <td>44.57</td>\n",
       "      <td>36809.56</td>\n",
       "      <td>11.0</td>\n",
       "      <td>744.970000</td>\n",
       "      <td>Yes</td>\n",
       "      <td>No</td>\n",
       "      <td>Yes</td>\n",
       "      <td>No Information Available</td>\n",
       "      <td>Too many ads</td>\n",
       "    </tr>\n",
       "    <tr>\n",
       "      <th>4</th>\n",
       "      <td>fffe43004900440035003000370031003900</td>\n",
       "      <td>Enola Gatto</td>\n",
       "      <td>16</td>\n",
       "      <td>F</td>\n",
       "      <td>100RYB5</td>\n",
       "      <td>Town</td>\n",
       "      <td>No Membership</td>\n",
       "      <td>2015-05-05</td>\n",
       "      <td>Yes</td>\n",
       "      <td>CID5690</td>\n",
       "      <td>...</td>\n",
       "      <td>6</td>\n",
       "      <td>349.88</td>\n",
       "      <td>40675.86</td>\n",
       "      <td>8.0</td>\n",
       "      <td>299.048351</td>\n",
       "      <td>No</td>\n",
       "      <td>Yes</td>\n",
       "      <td>Yes</td>\n",
       "      <td>Solved in Follow-up</td>\n",
       "      <td>Poor Website</td>\n",
       "    </tr>\n",
       "  </tbody>\n",
       "</table>\n",
       "<p>5 rows × 24 columns</p>\n",
       "</div>"
      ],
      "text/plain": [
       "                            customer_id              Name  age gender  \\\n",
       "0  fffe43004900440031003700300030003400    Alethia Meints   50      F   \n",
       "1  fffe43004900440031003900370037003300        Ming Lopez   41      M   \n",
       "2  fffe43004900440034003800360037003000  Carina Flannigan   31      F   \n",
       "3  fffe43004900440036003200370033003400      Kyung Wanner   64      M   \n",
       "4  fffe43004900440035003000370031003900       Enola Gatto   16      F   \n",
       "\n",
       "  security_no region_category membership_category joining_date  \\\n",
       "0     OQJ1XAY         Village  Premium Membership   2015-11-02   \n",
       "1     OUQRPKO         Village     Gold Membership   2016-03-01   \n",
       "2     02J2RE7            Town   Silver Membership   2017-03-03   \n",
       "3     5YEQIF1            Town   Silver Membership   2017-08-18   \n",
       "4     100RYB5            Town       No Membership   2015-05-05   \n",
       "\n",
       "  joined_through_referral referral_id  ... days_since_last_login  \\\n",
       "0                      No    xxxxxxxx  ...                    12   \n",
       "1                      No    xxxxxxxx  ...                    11   \n",
       "2                      No    xxxxxxxx  ...                    18   \n",
       "3                     Yes     CID8941  ...                  -999   \n",
       "4                     Yes     CID5690  ...                     6   \n",
       "\n",
       "  avg_time_spent avg_transaction_value avg_frequency_login_days  \\\n",
       "0         386.26              40721.44                      7.0   \n",
       "1          37.80               9644.40                      9.0   \n",
       "2         215.36               3693.25                     21.0   \n",
       "3          44.57              36809.56                     11.0   \n",
       "4         349.88              40675.86                      8.0   \n",
       "\n",
       "   points_in_wallet  used_special_discount  offer_application_preference  \\\n",
       "0        733.830000                    Yes                            No   \n",
       "1        726.000000                    Yes                            No   \n",
       "2        713.780000                    Yes                            No   \n",
       "3        744.970000                    Yes                            No   \n",
       "4        299.048351                     No                           Yes   \n",
       "\n",
       "  past_complaint          complaint_status              feedback  \n",
       "0             No            Not Applicable  Poor Product Quality  \n",
       "1             No            Not Applicable          Poor Website  \n",
       "2            Yes       Solved in Follow-up   No reason specified  \n",
       "3            Yes  No Information Available          Too many ads  \n",
       "4            Yes       Solved in Follow-up          Poor Website  \n",
       "\n",
       "[5 rows x 24 columns]"
      ]
     },
     "execution_count": 203,
     "metadata": {},
     "output_type": "execute_result"
    }
   ],
   "source": [
    "real_test_data = pd.read_csv(\"dataset/test.csv\")\n",
    "real_test_data.head()"
   ]
  },
  {
   "cell_type": "code",
   "execution_count": 204,
   "metadata": {},
   "outputs": [],
   "source": [
    "real_test_data = dropAllNA(real_test_data)"
   ]
  },
  {
   "cell_type": "code",
   "execution_count": 205,
   "metadata": {},
   "outputs": [],
   "source": [
    "real_test_data2 = real_test_data[['age',\n",
    "        'membership_category', 'joining_date',\n",
    "       'joined_through_referral', 'preferred_offer_types',\n",
    "       'medium_of_operation', 'last_visit_time',\n",
    "       'days_since_last_login', 'avg_time_spent', 'avg_transaction_value',\n",
    "       'avg_frequency_login_days', 'points_in_wallet', 'used_special_discount',\n",
    "       'offer_application_preference', 'past_complaint', 'complaint_status',\n",
    "       'feedback']]\n"
   ]
  },
  {
   "cell_type": "code",
   "execution_count": 206,
   "metadata": {},
   "outputs": [],
   "source": [
    "real_test_data2 = real_test_data2.fillna(real_test_data2.mean())"
   ]
  },
  {
   "cell_type": "code",
   "execution_count": 207,
   "metadata": {},
   "outputs": [],
   "source": [
    "# joining_date column conversions"
   ]
  },
  {
   "cell_type": "code",
   "execution_count": 208,
   "metadata": {},
   "outputs": [],
   "source": [
    "# Joining Date Columns Converted to Int\n",
    "joining_date_col = pd.to_datetime(real_test_data2[\"joining_date\"])"
   ]
  },
  {
   "cell_type": "code",
   "execution_count": 209,
   "metadata": {},
   "outputs": [],
   "source": [
    "real_test_data2[\"joining_date\"] = pd.to_datetime(real_test_data2[\"joining_date\"])  - joining_date_col.min()"
   ]
  },
  {
   "cell_type": "code",
   "execution_count": 210,
   "metadata": {},
   "outputs": [
    {
     "data": {
      "text/plain": [
       "0    305.0\n",
       "1    425.0\n",
       "2    792.0\n",
       "3    960.0\n",
       "4    124.0\n",
       "5    703.0\n",
       "6    258.0\n",
       "7    996.0\n",
       "8    154.0\n",
       "9    286.0\n",
       "Name: joining_date, dtype: float64"
      ]
     },
     "execution_count": 210,
     "metadata": {},
     "output_type": "execute_result"
    }
   ],
   "source": [
    "# df[\"joining_date\"].value_counts()\n",
    "real_test_data2[\"joining_date\"] = real_test_data2[\"joining_date\"] / np.timedelta64(1, 'D')\n",
    "real_test_data2[\"joining_date\"][0:10]"
   ]
  },
  {
   "cell_type": "code",
   "execution_count": 211,
   "metadata": {},
   "outputs": [
    {
     "data": {
      "text/plain": [
       "age                               int64\n",
       "membership_category              object\n",
       "joining_date                    float64\n",
       "joined_through_referral          object\n",
       "preferred_offer_types            object\n",
       "medium_of_operation              object\n",
       "last_visit_time                  object\n",
       "days_since_last_login             int64\n",
       "avg_time_spent                  float64\n",
       "avg_transaction_value           float64\n",
       "avg_frequency_login_days        float64\n",
       "points_in_wallet                float64\n",
       "used_special_discount            object\n",
       "offer_application_preference     object\n",
       "past_complaint                   object\n",
       "complaint_status                 object\n",
       "feedback                         object\n",
       "dtype: object"
      ]
     },
     "execution_count": 211,
     "metadata": {},
     "output_type": "execute_result"
    }
   ],
   "source": [
    "real_test_data2.dtypes"
   ]
  },
  {
   "cell_type": "markdown",
   "metadata": {},
   "source": [
    "### Last Visit Time Fix for Test"
   ]
  },
  {
   "cell_type": "code",
   "execution_count": 212,
   "metadata": {},
   "outputs": [],
   "source": [
    "# pd.TimeStamp(pd.to_datetime(df[\"last_visit_time\"],format=\"%H:%M:%S\"))\n",
    "last_visit_ns = pd.to_datetime(real_test_data2[\"last_visit_time\"],format=\"%H:%M:%S\")"
   ]
  },
  {
   "cell_type": "code",
   "execution_count": 213,
   "metadata": {},
   "outputs": [
    {
     "name": "stderr",
     "output_type": "stream",
     "text": [
      "<ipython-input-213-3235a64cf489>:1: DeprecationWarning: parsing timezone aware datetimes is deprecated; this will raise an error in the future\n",
      "  ts = (last_visit_ns - np.datetime64('1900-01-01T00:00:00Z')) / np.timedelta64(1, 's')\n"
     ]
    }
   ],
   "source": [
    "ts = (last_visit_ns - np.datetime64('1900-01-01T00:00:00Z')) / np.timedelta64(1, 's')"
   ]
  },
  {
   "cell_type": "code",
   "execution_count": 214,
   "metadata": {},
   "outputs": [
    {
     "data": {
      "text/plain": [
       "0        26370.0\n",
       "1        80476.0\n",
       "2        60039.0\n",
       "3        53777.0\n",
       "4        10673.0\n",
       "          ...   \n",
       "19914     1963.0\n",
       "19915    28477.0\n",
       "19916    33997.0\n",
       "19917    79154.0\n",
       "19918    39015.0\n",
       "Name: last_visit_time, Length: 19919, dtype: float64"
      ]
     },
     "execution_count": 214,
     "metadata": {},
     "output_type": "execute_result"
    }
   ],
   "source": [
    "ts"
   ]
  },
  {
   "cell_type": "code",
   "execution_count": 215,
   "metadata": {},
   "outputs": [],
   "source": [
    "real_test_data2[\"last_visit_time\"] = ts"
   ]
  },
  {
   "cell_type": "code",
   "execution_count": 216,
   "metadata": {},
   "outputs": [
    {
     "data": {
      "text/plain": [
       "age                               int64\n",
       "membership_category              object\n",
       "joining_date                    float64\n",
       "joined_through_referral          object\n",
       "preferred_offer_types            object\n",
       "medium_of_operation              object\n",
       "last_visit_time                 float64\n",
       "days_since_last_login             int64\n",
       "avg_time_spent                  float64\n",
       "avg_transaction_value           float64\n",
       "avg_frequency_login_days        float64\n",
       "points_in_wallet                float64\n",
       "used_special_discount            object\n",
       "offer_application_preference     object\n",
       "past_complaint                   object\n",
       "complaint_status                 object\n",
       "feedback                         object\n",
       "dtype: object"
      ]
     },
     "execution_count": 216,
     "metadata": {},
     "output_type": "execute_result"
    }
   ],
   "source": [
    "real_test_data2.dtypes"
   ]
  },
  {
   "cell_type": "code",
   "execution_count": 217,
   "metadata": {},
   "outputs": [],
   "source": [
    "encoded_str = real_test_data2.select_dtypes(include=\"object\")#.apply(label_encoder.fit_transform)"
   ]
  },
  {
   "cell_type": "code",
   "execution_count": 218,
   "metadata": {},
   "outputs": [],
   "source": [
    "model_ip = encoded_str.astype(str).apply(label_encoder.fit_transform)"
   ]
  },
  {
   "cell_type": "code",
   "execution_count": 219,
   "metadata": {},
   "outputs": [
    {
     "data": {
      "text/html": [
       "<div>\n",
       "<style scoped>\n",
       "    .dataframe tbody tr th:only-of-type {\n",
       "        vertical-align: middle;\n",
       "    }\n",
       "\n",
       "    .dataframe tbody tr th {\n",
       "        vertical-align: top;\n",
       "    }\n",
       "\n",
       "    .dataframe thead th {\n",
       "        text-align: right;\n",
       "    }\n",
       "</style>\n",
       "<table border=\"1\" class=\"dataframe\">\n",
       "  <thead>\n",
       "    <tr style=\"text-align: right;\">\n",
       "      <th></th>\n",
       "      <th>membership_category</th>\n",
       "      <th>joined_through_referral</th>\n",
       "      <th>preferred_offer_types</th>\n",
       "      <th>medium_of_operation</th>\n",
       "      <th>used_special_discount</th>\n",
       "      <th>offer_application_preference</th>\n",
       "      <th>past_complaint</th>\n",
       "      <th>complaint_status</th>\n",
       "      <th>feedback</th>\n",
       "      <th>avg_frequency_login_days</th>\n",
       "      <th>points_in_wallet</th>\n",
       "      <th>avg_time_spent</th>\n",
       "      <th>last_visit_time</th>\n",
       "      <th>joining_date</th>\n",
       "      <th>days_since_last_login</th>\n",
       "      <th>avg_transaction_value</th>\n",
       "    </tr>\n",
       "  </thead>\n",
       "  <tbody>\n",
       "    <tr>\n",
       "      <th>0</th>\n",
       "      <td>4</td>\n",
       "      <td>1</td>\n",
       "      <td>2</td>\n",
       "      <td>3</td>\n",
       "      <td>1</td>\n",
       "      <td>0</td>\n",
       "      <td>0</td>\n",
       "      <td>1</td>\n",
       "      <td>2</td>\n",
       "      <td>7.0</td>\n",
       "      <td>733.830000</td>\n",
       "      <td>386.26</td>\n",
       "      <td>26370.0</td>\n",
       "      <td>305.0</td>\n",
       "      <td>12</td>\n",
       "      <td>40721.44</td>\n",
       "    </tr>\n",
       "    <tr>\n",
       "      <th>1</th>\n",
       "      <td>1</td>\n",
       "      <td>1</td>\n",
       "      <td>2</td>\n",
       "      <td>2</td>\n",
       "      <td>1</td>\n",
       "      <td>0</td>\n",
       "      <td>0</td>\n",
       "      <td>1</td>\n",
       "      <td>3</td>\n",
       "      <td>9.0</td>\n",
       "      <td>726.000000</td>\n",
       "      <td>37.80</td>\n",
       "      <td>80476.0</td>\n",
       "      <td>425.0</td>\n",
       "      <td>11</td>\n",
       "      <td>9644.40</td>\n",
       "    </tr>\n",
       "    <tr>\n",
       "      <th>2</th>\n",
       "      <td>5</td>\n",
       "      <td>1</td>\n",
       "      <td>1</td>\n",
       "      <td>1</td>\n",
       "      <td>1</td>\n",
       "      <td>0</td>\n",
       "      <td>1</td>\n",
       "      <td>3</td>\n",
       "      <td>0</td>\n",
       "      <td>21.0</td>\n",
       "      <td>713.780000</td>\n",
       "      <td>215.36</td>\n",
       "      <td>60039.0</td>\n",
       "      <td>792.0</td>\n",
       "      <td>18</td>\n",
       "      <td>3693.25</td>\n",
       "    </tr>\n",
       "    <tr>\n",
       "      <th>3</th>\n",
       "      <td>5</td>\n",
       "      <td>2</td>\n",
       "      <td>0</td>\n",
       "      <td>0</td>\n",
       "      <td>1</td>\n",
       "      <td>0</td>\n",
       "      <td>1</td>\n",
       "      <td>0</td>\n",
       "      <td>7</td>\n",
       "      <td>11.0</td>\n",
       "      <td>744.970000</td>\n",
       "      <td>44.57</td>\n",
       "      <td>53777.0</td>\n",
       "      <td>960.0</td>\n",
       "      <td>30</td>\n",
       "      <td>36809.56</td>\n",
       "    </tr>\n",
       "    <tr>\n",
       "      <th>4</th>\n",
       "      <td>2</td>\n",
       "      <td>2</td>\n",
       "      <td>2</td>\n",
       "      <td>3</td>\n",
       "      <td>0</td>\n",
       "      <td>1</td>\n",
       "      <td>1</td>\n",
       "      <td>3</td>\n",
       "      <td>3</td>\n",
       "      <td>8.0</td>\n",
       "      <td>299.048351</td>\n",
       "      <td>349.88</td>\n",
       "      <td>10673.0</td>\n",
       "      <td>124.0</td>\n",
       "      <td>6</td>\n",
       "      <td>40675.86</td>\n",
       "    </tr>\n",
       "  </tbody>\n",
       "</table>\n",
       "</div>"
      ],
      "text/plain": [
       "   membership_category  joined_through_referral  preferred_offer_types  \\\n",
       "0                    4                        1                      2   \n",
       "1                    1                        1                      2   \n",
       "2                    5                        1                      1   \n",
       "3                    5                        2                      0   \n",
       "4                    2                        2                      2   \n",
       "\n",
       "   medium_of_operation  used_special_discount  offer_application_preference  \\\n",
       "0                    3                      1                             0   \n",
       "1                    2                      1                             0   \n",
       "2                    1                      1                             0   \n",
       "3                    0                      1                             0   \n",
       "4                    3                      0                             1   \n",
       "\n",
       "   past_complaint  complaint_status  feedback  avg_frequency_login_days  \\\n",
       "0               0                 1         2                       7.0   \n",
       "1               0                 1         3                       9.0   \n",
       "2               1                 3         0                      21.0   \n",
       "3               1                 0         7                      11.0   \n",
       "4               1                 3         3                       8.0   \n",
       "\n",
       "   points_in_wallet  avg_time_spent  last_visit_time  joining_date  \\\n",
       "0        733.830000          386.26          26370.0         305.0   \n",
       "1        726.000000           37.80          80476.0         425.0   \n",
       "2        713.780000          215.36          60039.0         792.0   \n",
       "3        744.970000           44.57          53777.0         960.0   \n",
       "4        299.048351          349.88          10673.0         124.0   \n",
       "\n",
       "   days_since_last_login  avg_transaction_value  \n",
       "0                     12               40721.44  \n",
       "1                     11                9644.40  \n",
       "2                     18                3693.25  \n",
       "3                     30               36809.56  \n",
       "4                      6               40675.86  "
      ]
     },
     "execution_count": 219,
     "metadata": {},
     "output_type": "execute_result"
    }
   ],
   "source": [
    "model_ip[['avg_frequency_login_days','points_in_wallet', 'avg_time_spent', 'last_visit_time', 'joining_date', 'days_since_last_login', 'avg_transaction_value']] = real_test_data2[['avg_frequency_login_days','points_in_wallet', 'avg_time_spent', 'last_visit_time', 'joining_date', 'days_since_last_login', 'avg_transaction_value']]\n",
    "model_ip[['last_visit_time', 'joining_date']] = real_test_data2[['last_visit_time', 'joining_date']]\n",
    "model_ip.head()"
   ]
  },
  {
   "cell_type": "code",
   "execution_count": 220,
   "metadata": {},
   "outputs": [
    {
     "data": {
      "text/html": [
       "<div>\n",
       "<style scoped>\n",
       "    .dataframe tbody tr th:only-of-type {\n",
       "        vertical-align: middle;\n",
       "    }\n",
       "\n",
       "    .dataframe tbody tr th {\n",
       "        vertical-align: top;\n",
       "    }\n",
       "\n",
       "    .dataframe thead th {\n",
       "        text-align: right;\n",
       "    }\n",
       "</style>\n",
       "<table border=\"1\" class=\"dataframe\">\n",
       "  <thead>\n",
       "    <tr style=\"text-align: right;\">\n",
       "      <th></th>\n",
       "      <th>last_visit_time</th>\n",
       "      <th>joining_date</th>\n",
       "    </tr>\n",
       "  </thead>\n",
       "  <tbody>\n",
       "    <tr>\n",
       "      <th>0</th>\n",
       "      <td>26370.0</td>\n",
       "      <td>305.0</td>\n",
       "    </tr>\n",
       "    <tr>\n",
       "      <th>1</th>\n",
       "      <td>80476.0</td>\n",
       "      <td>425.0</td>\n",
       "    </tr>\n",
       "    <tr>\n",
       "      <th>2</th>\n",
       "      <td>60039.0</td>\n",
       "      <td>792.0</td>\n",
       "    </tr>\n",
       "    <tr>\n",
       "      <th>3</th>\n",
       "      <td>53777.0</td>\n",
       "      <td>960.0</td>\n",
       "    </tr>\n",
       "    <tr>\n",
       "      <th>4</th>\n",
       "      <td>10673.0</td>\n",
       "      <td>124.0</td>\n",
       "    </tr>\n",
       "    <tr>\n",
       "      <th>...</th>\n",
       "      <td>...</td>\n",
       "      <td>...</td>\n",
       "    </tr>\n",
       "    <tr>\n",
       "      <th>19914</th>\n",
       "      <td>1963.0</td>\n",
       "      <td>24.0</td>\n",
       "    </tr>\n",
       "    <tr>\n",
       "      <th>19915</th>\n",
       "      <td>28477.0</td>\n",
       "      <td>1095.0</td>\n",
       "    </tr>\n",
       "    <tr>\n",
       "      <th>19916</th>\n",
       "      <td>33997.0</td>\n",
       "      <td>251.0</td>\n",
       "    </tr>\n",
       "    <tr>\n",
       "      <th>19917</th>\n",
       "      <td>79154.0</td>\n",
       "      <td>472.0</td>\n",
       "    </tr>\n",
       "    <tr>\n",
       "      <th>19918</th>\n",
       "      <td>39015.0</td>\n",
       "      <td>1033.0</td>\n",
       "    </tr>\n",
       "  </tbody>\n",
       "</table>\n",
       "<p>19919 rows × 2 columns</p>\n",
       "</div>"
      ],
      "text/plain": [
       "       last_visit_time  joining_date\n",
       "0              26370.0         305.0\n",
       "1              80476.0         425.0\n",
       "2              60039.0         792.0\n",
       "3              53777.0         960.0\n",
       "4              10673.0         124.0\n",
       "...                ...           ...\n",
       "19914           1963.0          24.0\n",
       "19915          28477.0        1095.0\n",
       "19916          33997.0         251.0\n",
       "19917          79154.0         472.0\n",
       "19918          39015.0        1033.0\n",
       "\n",
       "[19919 rows x 2 columns]"
      ]
     },
     "execution_count": 220,
     "metadata": {},
     "output_type": "execute_result"
    }
   ],
   "source": [
    "model_ip[['last_visit_time', 'joining_date']]"
   ]
  },
  {
   "cell_type": "code",
   "execution_count": 221,
   "metadata": {},
   "outputs": [
    {
     "data": {
      "text/plain": [
       "membership_category               int32\n",
       "joined_through_referral           int32\n",
       "preferred_offer_types             int32\n",
       "medium_of_operation               int32\n",
       "used_special_discount             int32\n",
       "offer_application_preference      int32\n",
       "past_complaint                    int32\n",
       "complaint_status                  int32\n",
       "feedback                          int32\n",
       "avg_frequency_login_days        float64\n",
       "points_in_wallet                float64\n",
       "avg_time_spent                  float64\n",
       "last_visit_time                 float64\n",
       "joining_date                    float64\n",
       "days_since_last_login             int64\n",
       "avg_transaction_value           float64\n",
       "dtype: object"
      ]
     },
     "execution_count": 221,
     "metadata": {},
     "output_type": "execute_result"
    }
   ],
   "source": [
    "model_ip.dtypes"
   ]
  },
  {
   "cell_type": "code",
   "execution_count": 222,
   "metadata": {},
   "outputs": [],
   "source": [
    "# str_needed = real_test_data.select_dtypes(exclude=[\"float64\",\"int64\"])\n",
    "real_test_pred = model.predict(model_ip)"
   ]
  },
  {
   "cell_type": "code",
   "execution_count": 223,
   "metadata": {},
   "outputs": [],
   "source": [
    "final_result_df = pd.DataFrame({\n",
    "    \"customer_id\":real_test_data[\"customer_id\"],\n",
    "    \"churn_risk_score\":real_test_pred.astype(int)\n",
    "})"
   ]
  },
  {
   "cell_type": "code",
   "execution_count": 224,
   "metadata": {},
   "outputs": [
    {
     "data": {
      "text/html": [
       "<div>\n",
       "<style scoped>\n",
       "    .dataframe tbody tr th:only-of-type {\n",
       "        vertical-align: middle;\n",
       "    }\n",
       "\n",
       "    .dataframe tbody tr th {\n",
       "        vertical-align: top;\n",
       "    }\n",
       "\n",
       "    .dataframe thead th {\n",
       "        text-align: right;\n",
       "    }\n",
       "</style>\n",
       "<table border=\"1\" class=\"dataframe\">\n",
       "  <thead>\n",
       "    <tr style=\"text-align: right;\">\n",
       "      <th></th>\n",
       "      <th>customer_id</th>\n",
       "      <th>churn_risk_score</th>\n",
       "    </tr>\n",
       "  </thead>\n",
       "  <tbody>\n",
       "    <tr>\n",
       "      <th>0</th>\n",
       "      <td>fffe43004900440031003700300030003400</td>\n",
       "      <td>3</td>\n",
       "    </tr>\n",
       "    <tr>\n",
       "      <th>1</th>\n",
       "      <td>fffe43004900440031003900370037003300</td>\n",
       "      <td>3</td>\n",
       "    </tr>\n",
       "    <tr>\n",
       "      <th>2</th>\n",
       "      <td>fffe43004900440034003800360037003000</td>\n",
       "      <td>3</td>\n",
       "    </tr>\n",
       "    <tr>\n",
       "      <th>3</th>\n",
       "      <td>fffe43004900440036003200370033003400</td>\n",
       "      <td>3</td>\n",
       "    </tr>\n",
       "    <tr>\n",
       "      <th>4</th>\n",
       "      <td>fffe43004900440035003000370031003900</td>\n",
       "      <td>5</td>\n",
       "    </tr>\n",
       "  </tbody>\n",
       "</table>\n",
       "</div>"
      ],
      "text/plain": [
       "                            customer_id  churn_risk_score\n",
       "0  fffe43004900440031003700300030003400                 3\n",
       "1  fffe43004900440031003900370037003300                 3\n",
       "2  fffe43004900440034003800360037003000                 3\n",
       "3  fffe43004900440036003200370033003400                 3\n",
       "4  fffe43004900440035003000370031003900                 5"
      ]
     },
     "execution_count": 224,
     "metadata": {},
     "output_type": "execute_result"
    }
   ],
   "source": [
    "final_result_df.head()"
   ]
  },
  {
   "cell_type": "code",
   "execution_count": 225,
   "metadata": {},
   "outputs": [],
   "source": [
    "final_result_df.to_csv(f\"DROP-Model-{score}.csv\")"
   ]
  },
  {
   "cell_type": "code",
   "execution_count": 226,
   "metadata": {},
   "outputs": [
    {
     "name": "stdout",
     "output_type": "stream",
     "text": [
      "0.6284062517219255\n"
     ]
    }
   ],
   "source": [
    "print(score)"
   ]
  },
  {
   "cell_type": "code",
   "execution_count": null,
   "metadata": {},
   "outputs": [],
   "source": []
  },
  {
   "cell_type": "code",
   "execution_count": null,
   "metadata": {},
   "outputs": [],
   "source": []
  }
 ],
 "metadata": {
  "kernelspec": {
   "display_name": "Python 3",
   "language": "python",
   "name": "python3"
  },
  "language_info": {
   "codemirror_mode": {
    "name": "ipython",
    "version": 3
   },
   "file_extension": ".py",
   "mimetype": "text/x-python",
   "name": "python",
   "nbconvert_exporter": "python",
   "pygments_lexer": "ipython3",
   "version": "3.8.3"
  }
 },
 "nbformat": 4,
 "nbformat_minor": 4
}
