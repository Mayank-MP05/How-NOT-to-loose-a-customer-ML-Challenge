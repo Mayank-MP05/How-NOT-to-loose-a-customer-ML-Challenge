{
 "cells": [
  {
   "cell_type": "code",
   "execution_count": 608,
   "metadata": {},
   "outputs": [],
   "source": [
    "import pandas as pd\n",
    "import numpy as np"
   ]
  },
  {
   "cell_type": "code",
   "execution_count": 609,
   "metadata": {},
   "outputs": [],
   "source": [
    "df = pd.read_csv('dataset/train.csv')"
   ]
  },
  {
   "cell_type": "code",
   "execution_count": 610,
   "metadata": {},
   "outputs": [
    {
     "data": {
      "text/plain": [
       "(36992, 25)"
      ]
     },
     "execution_count": 610,
     "metadata": {},
     "output_type": "execute_result"
    }
   ],
   "source": [
    "df.shape"
   ]
  },
  {
   "cell_type": "code",
   "execution_count": 611,
   "metadata": {},
   "outputs": [
    {
     "data": {
      "text/plain": [
       "Index(['customer_id', 'Name', 'age', 'gender', 'security_no',\n",
       "       'region_category', 'membership_category', 'joining_date',\n",
       "       'joined_through_referral', 'referral_id', 'preferred_offer_types',\n",
       "       'medium_of_operation', 'internet_option', 'last_visit_time',\n",
       "       'days_since_last_login', 'avg_time_spent', 'avg_transaction_value',\n",
       "       'avg_frequency_login_days', 'points_in_wallet', 'used_special_discount',\n",
       "       'offer_application_preference', 'past_complaint', 'complaint_status',\n",
       "       'feedback', 'churn_risk_score'],\n",
       "      dtype='object')"
      ]
     },
     "execution_count": 611,
     "metadata": {},
     "output_type": "execute_result"
    }
   ],
   "source": [
    "df.columns"
   ]
  },
  {
   "cell_type": "code",
   "execution_count": 612,
   "metadata": {},
   "outputs": [],
   "source": [
    "def _joined_through_ref_cleaner(row):\n",
    "    yesOrNo = 'Yes' if row[\"referral_id\"] != 'xxxxxxxx' else 'No'\n",
    "    row['joined_through_referral'] = yesOrNo if (row['joined_through_referral'] == '?') else row['joined_through_referral']\n",
    "    return row\n",
    "\n",
    "def joined_through_ref_cleaner(df):\n",
    "    df2 = df.apply(lambda row:_joined_through_ref_cleaner(row),axis=1)\n",
    "    return df2"
   ]
  },
  {
   "cell_type": "code",
   "execution_count": 613,
   "metadata": {},
   "outputs": [],
   "source": [
    "def dropAllNA(df):\n",
    "    df[\"gender\"] = df[\"gender\"].replace(\"Unknown\",np.NaN)\n",
    "#     df[\"avg_frequency_login_days\"] = df[\"avg_frequency_login_days\"].replace(\"Error\",np.NaN)\n",
    "#     df[\"avg_frequency_login_days\"] = df[\"avg_frequency_login_days\"].replace(\"-999\",50)\n",
    "#     df[\"medium_of_operation\"] = df[\"medium_of_operation\"].replace(\"?\",np.NaN)\n",
    "    \n",
    "    df['gender'].fillna(df[\"gender\"].value_counts().index[0],inplace=True)\n",
    "#     df['avg_frequency_login_days'].fillna(df[df[\"avg_frequency_login_days\"] != '-999']['avg_frequency_login_days'].astype('float64').mean(),inplace=True)\n",
    "#     df['medium_of_operation'].fillna(df[\"medium_of_operation\"].value_counts().index[0],inplace=True)\n",
    "    df['region_category'].fillna(df[\"region_category\"].value_counts().index[0],inplace=True)\n",
    "    df['preferred_offer_types'].fillna(df[\"preferred_offer_types\"].value_counts().index[0],inplace=True)\n",
    "    \n",
    "    df['points_in_wallet'].fillna(df[\"points_in_wallet\"].astype('float64').mean(),inplace=True)\n",
    "    df['points_in_wallet'] = df['points_in_wallet'].astype('float64')\n",
    "#     df['avg_frequency_login_days'] = df['avg_frequency_login_days'].astype(\"float64\")\n",
    "    return df"
   ]
  },
  {
   "cell_type": "code",
   "execution_count": 614,
   "metadata": {},
   "outputs": [],
   "source": [
    "df = dropAllNA(df)"
   ]
  },
  {
   "cell_type": "markdown",
   "metadata": {},
   "source": [
    "### Negative Churn Rate Fixing"
   ]
  },
  {
   "cell_type": "code",
   "execution_count": 615,
   "metadata": {},
   "outputs": [
    {
     "name": "stderr",
     "output_type": "stream",
     "text": [
      "<ipython-input-615-7a577168105a>:6: SettingWithCopyWarning: \n",
      "A value is trying to be set on a copy of a slice from a DataFrame.\n",
      "Try using .loc[row_indexer,col_indexer] = value instead\n",
      "\n",
      "See the caveats in the documentation: https://pandas.pydata.org/pandas-docs/stable/user_guide/indexing.html#returning-a-view-versus-a-copy\n",
      "  df[(df[\"churn_risk_score\"]<0)][\"churn_risk_score\"] = int(0)\n"
     ]
    }
   ],
   "source": [
    "# Cleaning the Null and Negative values\n",
    "# df = df[df[\"churn_risk_score\"]>=0]\n",
    "\n",
    "# changinng negative values to zero\n",
    "# df[\"churn_risk_score\"] = np.where((df[\"churn_risk_score\"] < 0),0,df[\"churn_risk_score\"])\n",
    "df[(df[\"churn_risk_score\"]<0)][\"churn_risk_score\"] = int(0)\n",
    "df[df[\"churn_risk_score\"] > 5][\"churn_risk_score\"] = int(5)"
   ]
  },
  {
   "cell_type": "markdown",
   "metadata": {},
   "source": [
    "### joining_date_col convert to days to start"
   ]
  },
  {
   "cell_type": "code",
   "execution_count": 616,
   "metadata": {},
   "outputs": [],
   "source": [
    "# Joining Date Columns Converted to Int\n",
    "joining_date_col = pd.to_datetime(df[\"joining_date\"])"
   ]
  },
  {
   "cell_type": "code",
   "execution_count": 617,
   "metadata": {},
   "outputs": [],
   "source": [
    "df[\"joining_date\"] = pd.to_datetime(df[\"joining_date\"])  - joining_date_col.min()"
   ]
  },
  {
   "cell_type": "code",
   "execution_count": 618,
   "metadata": {},
   "outputs": [
    {
     "data": {
      "text/plain": [
       "0    959.0\n",
       "1    970.0\n",
       "2    680.0\n",
       "3    667.0\n",
       "4    985.0\n",
       "5    372.0\n",
       "6     77.0\n",
       "7    558.0\n",
       "8    713.0\n",
       "9    699.0\n",
       "Name: joining_date, dtype: float64"
      ]
     },
     "execution_count": 618,
     "metadata": {},
     "output_type": "execute_result"
    }
   ],
   "source": [
    "# df[\"joining_date\"].value_counts()\n",
    "df[\"joining_date\"] = df[\"joining_date\"] / np.timedelta64(1, 'D')\n",
    "df[\"joining_date\"][0:10]"
   ]
  },
  {
   "cell_type": "code",
   "execution_count": 619,
   "metadata": {},
   "outputs": [
    {
     "data": {
      "text/plain": [
       "0    1900-01-01 16:08:02\n",
       "1    1900-01-01 12:38:13\n",
       "2    1900-01-01 22:53:21\n",
       "3    1900-01-01 15:57:50\n",
       "4    1900-01-01 15:46:44\n",
       "5    1900-01-01 06:46:07\n",
       "6    1900-01-01 11:40:04\n",
       "7    1900-01-01 07:52:43\n",
       "8    1900-01-01 06:50:10\n",
       "9    1900-01-01 19:10:16\n",
       "10   1900-01-01 05:57:20\n",
       "11   1900-01-01 11:56:11\n",
       "12   1900-01-01 04:42:50\n",
       "13   1900-01-01 08:35:05\n",
       "14   1900-01-01 21:01:43\n",
       "15   1900-01-01 13:48:22\n",
       "16   1900-01-01 20:58:28\n",
       "17   1900-01-01 03:42:26\n",
       "18   1900-01-01 15:39:05\n",
       "19   1900-01-01 11:46:54\n",
       "Name: last_visit_time, dtype: datetime64[ns]"
      ]
     },
     "execution_count": 619,
     "metadata": {},
     "output_type": "execute_result"
    }
   ],
   "source": [
    "# last_visit_time col here\n",
    "pd.to_datetime(df[\"last_visit_time\"],format=\"%H:%M:%S\")[0:20]"
   ]
  },
  {
   "cell_type": "markdown",
   "metadata": {},
   "source": [
    "### last_visit_ns -> Last Visit Column to Float"
   ]
  },
  {
   "cell_type": "code",
   "execution_count": 620,
   "metadata": {},
   "outputs": [],
   "source": [
    "# pd.TimeStamp(pd.to_datetime(df[\"last_visit_time\"],format=\"%H:%M:%S\"))\n",
    "last_visit_ns = pd.to_datetime(df[\"last_visit_time\"],format=\"%H:%M:%S\")"
   ]
  },
  {
   "cell_type": "code",
   "execution_count": 621,
   "metadata": {},
   "outputs": [
    {
     "name": "stderr",
     "output_type": "stream",
     "text": [
      "<ipython-input-621-3235a64cf489>:1: DeprecationWarning: parsing timezone aware datetimes is deprecated; this will raise an error in the future\n",
      "  ts = (last_visit_ns - np.datetime64('1900-01-01T00:00:00Z')) / np.timedelta64(1, 's')\n"
     ]
    }
   ],
   "source": [
    "ts = (last_visit_ns - np.datetime64('1900-01-01T00:00:00Z')) / np.timedelta64(1, 's')"
   ]
  },
  {
   "cell_type": "code",
   "execution_count": 622,
   "metadata": {},
   "outputs": [
    {
     "data": {
      "text/plain": [
       "0        58082.0\n",
       "1        45493.0\n",
       "2        82401.0\n",
       "3        57470.0\n",
       "4        56804.0\n",
       "          ...   \n",
       "36987    15245.0\n",
       "36988    83911.0\n",
       "36989    13825.0\n",
       "36990    35403.0\n",
       "36991     5992.0\n",
       "Name: last_visit_time, Length: 36992, dtype: float64"
      ]
     },
     "execution_count": 622,
     "metadata": {},
     "output_type": "execute_result"
    }
   ],
   "source": [
    "ts"
   ]
  },
  {
   "cell_type": "code",
   "execution_count": 623,
   "metadata": {},
   "outputs": [],
   "source": [
    "df[\"last_visit_time\"] = ts"
   ]
  },
  {
   "cell_type": "code",
   "execution_count": 624,
   "metadata": {},
   "outputs": [],
   "source": [
    "df = df.dropna()"
   ]
  },
  {
   "cell_type": "code",
   "execution_count": null,
   "metadata": {},
   "outputs": [],
   "source": []
  },
  {
   "cell_type": "code",
   "execution_count": 625,
   "metadata": {},
   "outputs": [
    {
     "data": {
      "text/plain": [
       "(36992, 25)"
      ]
     },
     "execution_count": 625,
     "metadata": {},
     "output_type": "execute_result"
    }
   ],
   "source": [
    "df.shape"
   ]
  },
  {
   "cell_type": "code",
   "execution_count": 626,
   "metadata": {},
   "outputs": [
    {
     "data": {
      "text/plain": [
       "customer_id                     36992\n",
       "Name                            36992\n",
       "age                             36992\n",
       "gender                          36992\n",
       "security_no                     36992\n",
       "region_category                 36992\n",
       "membership_category             36992\n",
       "joining_date                    36992\n",
       "joined_through_referral         36992\n",
       "referral_id                     36992\n",
       "preferred_offer_types           36992\n",
       "medium_of_operation             36992\n",
       "internet_option                 36992\n",
       "last_visit_time                 36992\n",
       "days_since_last_login           36992\n",
       "avg_time_spent                  36992\n",
       "avg_transaction_value           36992\n",
       "avg_frequency_login_days        36992\n",
       "points_in_wallet                36992\n",
       "used_special_discount           36992\n",
       "offer_application_preference    36992\n",
       "past_complaint                  36992\n",
       "complaint_status                36992\n",
       "feedback                        36992\n",
       "churn_risk_score                36992\n",
       "dtype: int64"
      ]
     },
     "execution_count": 626,
     "metadata": {},
     "output_type": "execute_result"
    }
   ],
   "source": [
    "df.isna().count()"
   ]
  },
  {
   "cell_type": "code",
   "execution_count": 627,
   "metadata": {},
   "outputs": [],
   "source": [
    "from sklearn import preprocessing\n",
    "label_encoder = preprocessing.LabelEncoder()"
   ]
  },
  {
   "cell_type": "code",
   "execution_count": 628,
   "metadata": {},
   "outputs": [
    {
     "data": {
      "text/plain": [
       "customer_id                      object\n",
       "Name                             object\n",
       "age                               int64\n",
       "gender                           object\n",
       "security_no                      object\n",
       "region_category                  object\n",
       "membership_category              object\n",
       "joining_date                    float64\n",
       "joined_through_referral          object\n",
       "referral_id                      object\n",
       "preferred_offer_types            object\n",
       "medium_of_operation              object\n",
       "internet_option                  object\n",
       "last_visit_time                 float64\n",
       "days_since_last_login             int64\n",
       "avg_time_spent                  float64\n",
       "avg_transaction_value           float64\n",
       "avg_frequency_login_days         object\n",
       "points_in_wallet                float64\n",
       "used_special_discount            object\n",
       "offer_application_preference     object\n",
       "past_complaint                   object\n",
       "complaint_status                 object\n",
       "feedback                         object\n",
       "churn_risk_score                  int64\n",
       "dtype: object"
      ]
     },
     "execution_count": 628,
     "metadata": {},
     "output_type": "execute_result"
    }
   ],
   "source": [
    "df.dtypes"
   ]
  },
  {
   "cell_type": "code",
   "execution_count": 629,
   "metadata": {},
   "outputs": [],
   "source": [
    "df2 = df.select_dtypes(include=\"object\").astype(str).apply(label_encoder.fit_transform)"
   ]
  },
  {
   "cell_type": "code",
   "execution_count": 630,
   "metadata": {},
   "outputs": [
    {
     "data": {
      "text/html": [
       "<div>\n",
       "<style scoped>\n",
       "    .dataframe tbody tr th:only-of-type {\n",
       "        vertical-align: middle;\n",
       "    }\n",
       "\n",
       "    .dataframe tbody tr th {\n",
       "        vertical-align: top;\n",
       "    }\n",
       "\n",
       "    .dataframe thead th {\n",
       "        text-align: right;\n",
       "    }\n",
       "</style>\n",
       "<table border=\"1\" class=\"dataframe\">\n",
       "  <thead>\n",
       "    <tr style=\"text-align: right;\">\n",
       "      <th></th>\n",
       "      <th>customer_id</th>\n",
       "      <th>Name</th>\n",
       "      <th>gender</th>\n",
       "      <th>security_no</th>\n",
       "      <th>region_category</th>\n",
       "      <th>membership_category</th>\n",
       "      <th>joined_through_referral</th>\n",
       "      <th>referral_id</th>\n",
       "      <th>preferred_offer_types</th>\n",
       "      <th>medium_of_operation</th>\n",
       "      <th>internet_option</th>\n",
       "      <th>avg_frequency_login_days</th>\n",
       "      <th>used_special_discount</th>\n",
       "      <th>offer_application_preference</th>\n",
       "      <th>past_complaint</th>\n",
       "      <th>complaint_status</th>\n",
       "      <th>feedback</th>\n",
       "    </tr>\n",
       "  </thead>\n",
       "  <tbody>\n",
       "    <tr>\n",
       "      <th>0</th>\n",
       "      <td>32243</td>\n",
       "      <td>28675</td>\n",
       "      <td>0</td>\n",
       "      <td>34811</td>\n",
       "      <td>2</td>\n",
       "      <td>3</td>\n",
       "      <td>1</td>\n",
       "      <td>11358</td>\n",
       "      <td>1</td>\n",
       "      <td>0</td>\n",
       "      <td>2</td>\n",
       "      <td>746</td>\n",
       "      <td>1</td>\n",
       "      <td>1</td>\n",
       "      <td>0</td>\n",
       "      <td>1</td>\n",
       "      <td>4</td>\n",
       "    </tr>\n",
       "    <tr>\n",
       "      <th>1</th>\n",
       "      <td>7055</td>\n",
       "      <td>34951</td>\n",
       "      <td>0</td>\n",
       "      <td>5804</td>\n",
       "      <td>0</td>\n",
       "      <td>4</td>\n",
       "      <td>0</td>\n",
       "      <td>2225</td>\n",
       "      <td>1</td>\n",
       "      <td>2</td>\n",
       "      <td>1</td>\n",
       "      <td>732</td>\n",
       "      <td>1</td>\n",
       "      <td>0</td>\n",
       "      <td>1</td>\n",
       "      <td>2</td>\n",
       "      <td>5</td>\n",
       "    </tr>\n",
       "    <tr>\n",
       "      <th>2</th>\n",
       "      <td>5910</td>\n",
       "      <td>25315</td>\n",
       "      <td>0</td>\n",
       "      <td>1534</td>\n",
       "      <td>1</td>\n",
       "      <td>2</td>\n",
       "      <td>2</td>\n",
       "      <td>471</td>\n",
       "      <td>1</td>\n",
       "      <td>2</td>\n",
       "      <td>2</td>\n",
       "      <td>779</td>\n",
       "      <td>0</td>\n",
       "      <td>1</td>\n",
       "      <td>1</td>\n",
       "      <td>3</td>\n",
       "      <td>3</td>\n",
       "    </tr>\n",
       "    <tr>\n",
       "      <th>3</th>\n",
       "      <td>32400</td>\n",
       "      <td>10462</td>\n",
       "      <td>1</td>\n",
       "      <td>32501</td>\n",
       "      <td>0</td>\n",
       "      <td>2</td>\n",
       "      <td>2</td>\n",
       "      <td>5506</td>\n",
       "      <td>1</td>\n",
       "      <td>2</td>\n",
       "      <td>1</td>\n",
       "      <td>1637</td>\n",
       "      <td>0</td>\n",
       "      <td>1</td>\n",
       "      <td>1</td>\n",
       "      <td>4</td>\n",
       "      <td>3</td>\n",
       "    </tr>\n",
       "    <tr>\n",
       "      <th>4</th>\n",
       "      <td>6070</td>\n",
       "      <td>24704</td>\n",
       "      <td>0</td>\n",
       "      <td>29819</td>\n",
       "      <td>0</td>\n",
       "      <td>2</td>\n",
       "      <td>1</td>\n",
       "      <td>11358</td>\n",
       "      <td>0</td>\n",
       "      <td>3</td>\n",
       "      <td>1</td>\n",
       "      <td>743</td>\n",
       "      <td>0</td>\n",
       "      <td>1</td>\n",
       "      <td>1</td>\n",
       "      <td>2</td>\n",
       "      <td>3</td>\n",
       "    </tr>\n",
       "  </tbody>\n",
       "</table>\n",
       "</div>"
      ],
      "text/plain": [
       "   customer_id   Name  gender  security_no  region_category  \\\n",
       "0        32243  28675       0        34811                2   \n",
       "1         7055  34951       0         5804                0   \n",
       "2         5910  25315       0         1534                1   \n",
       "3        32400  10462       1        32501                0   \n",
       "4         6070  24704       0        29819                0   \n",
       "\n",
       "   membership_category  joined_through_referral  referral_id  \\\n",
       "0                    3                        1        11358   \n",
       "1                    4                        0         2225   \n",
       "2                    2                        2          471   \n",
       "3                    2                        2         5506   \n",
       "4                    2                        1        11358   \n",
       "\n",
       "   preferred_offer_types  medium_of_operation  internet_option  \\\n",
       "0                      1                    0                2   \n",
       "1                      1                    2                1   \n",
       "2                      1                    2                2   \n",
       "3                      1                    2                1   \n",
       "4                      0                    3                1   \n",
       "\n",
       "   avg_frequency_login_days  used_special_discount  \\\n",
       "0                       746                      1   \n",
       "1                       732                      1   \n",
       "2                       779                      0   \n",
       "3                      1637                      0   \n",
       "4                       743                      0   \n",
       "\n",
       "   offer_application_preference  past_complaint  complaint_status  feedback  \n",
       "0                             1               0                 1         4  \n",
       "1                             0               1                 2         5  \n",
       "2                             1               1                 3         3  \n",
       "3                             1               1                 4         3  \n",
       "4                             1               1                 2         3  "
      ]
     },
     "execution_count": 630,
     "metadata": {},
     "output_type": "execute_result"
    }
   ],
   "source": [
    "df2.head()"
   ]
  },
  {
   "cell_type": "code",
   "execution_count": 631,
   "metadata": {},
   "outputs": [
    {
     "name": "stderr",
     "output_type": "stream",
     "text": [
      "C:\\Users\\MAYANK\\anaconda3\\lib\\site-packages\\pandas\\core\\frame.py:2963: SettingWithCopyWarning: \n",
      "A value is trying to be set on a copy of a slice from a DataFrame.\n",
      "Try using .loc[row_indexer,col_indexer] = value instead\n",
      "\n",
      "See the caveats in the documentation: https://pandas.pydata.org/pandas-docs/stable/user_guide/indexing.html#returning-a-view-versus-a-copy\n",
      "  self[k1] = value[k2]\n"
     ]
    }
   ],
   "source": [
    "from sklearn.model_selection import train_test_split\n",
    "X = df2[['gender',\n",
    "       'region_category', 'membership_category', \n",
    "       'joined_through_referral', 'preferred_offer_types',\n",
    "       'medium_of_operation', 'internet_option',\n",
    "       'avg_frequency_login_days', 'used_special_discount',\n",
    "       'offer_application_preference', 'past_complaint', 'complaint_status',\n",
    "       'feedback']]\n",
    "X[['points_in_wallet', 'age', 'avg_time_spent', 'last_visit_time', 'joining_date', 'days_since_last_login', 'avg_transaction_value']] = df[['points_in_wallet', 'age', 'avg_time_spent', 'last_visit_time', 'joining_date', 'days_since_last_login', 'avg_transaction_value']]\n",
    "y = df[\"churn_risk_score\"]\n",
    "X_train, X_test, y_train, y_test = train_test_split(X, y, test_size=0.15, random_state=465)\n",
    "# print(X.shape,y.shape)"
   ]
  },
  {
   "cell_type": "code",
   "execution_count": 632,
   "metadata": {},
   "outputs": [
    {
     "data": {
      "text/html": [
       "<div>\n",
       "<style scoped>\n",
       "    .dataframe tbody tr th:only-of-type {\n",
       "        vertical-align: middle;\n",
       "    }\n",
       "\n",
       "    .dataframe tbody tr th {\n",
       "        vertical-align: top;\n",
       "    }\n",
       "\n",
       "    .dataframe thead th {\n",
       "        text-align: right;\n",
       "    }\n",
       "</style>\n",
       "<table border=\"1\" class=\"dataframe\">\n",
       "  <thead>\n",
       "    <tr style=\"text-align: right;\">\n",
       "      <th></th>\n",
       "      <th>gender</th>\n",
       "      <th>region_category</th>\n",
       "      <th>membership_category</th>\n",
       "      <th>joined_through_referral</th>\n",
       "      <th>preferred_offer_types</th>\n",
       "      <th>medium_of_operation</th>\n",
       "      <th>internet_option</th>\n",
       "      <th>avg_frequency_login_days</th>\n",
       "      <th>used_special_discount</th>\n",
       "      <th>offer_application_preference</th>\n",
       "      <th>past_complaint</th>\n",
       "      <th>complaint_status</th>\n",
       "      <th>feedback</th>\n",
       "      <th>points_in_wallet</th>\n",
       "      <th>age</th>\n",
       "      <th>avg_time_spent</th>\n",
       "      <th>last_visit_time</th>\n",
       "      <th>joining_date</th>\n",
       "      <th>days_since_last_login</th>\n",
       "      <th>avg_transaction_value</th>\n",
       "    </tr>\n",
       "  </thead>\n",
       "  <tbody>\n",
       "    <tr>\n",
       "      <th>0</th>\n",
       "      <td>0</td>\n",
       "      <td>2</td>\n",
       "      <td>3</td>\n",
       "      <td>1</td>\n",
       "      <td>1</td>\n",
       "      <td>0</td>\n",
       "      <td>2</td>\n",
       "      <td>746</td>\n",
       "      <td>1</td>\n",
       "      <td>1</td>\n",
       "      <td>0</td>\n",
       "      <td>1</td>\n",
       "      <td>4</td>\n",
       "      <td>781.750000</td>\n",
       "      <td>18</td>\n",
       "      <td>300.63</td>\n",
       "      <td>58082.0</td>\n",
       "      <td>959.0</td>\n",
       "      <td>17</td>\n",
       "      <td>53005.25</td>\n",
       "    </tr>\n",
       "    <tr>\n",
       "      <th>1</th>\n",
       "      <td>0</td>\n",
       "      <td>0</td>\n",
       "      <td>4</td>\n",
       "      <td>0</td>\n",
       "      <td>1</td>\n",
       "      <td>2</td>\n",
       "      <td>1</td>\n",
       "      <td>732</td>\n",
       "      <td>1</td>\n",
       "      <td>0</td>\n",
       "      <td>1</td>\n",
       "      <td>2</td>\n",
       "      <td>5</td>\n",
       "      <td>686.882199</td>\n",
       "      <td>32</td>\n",
       "      <td>306.34</td>\n",
       "      <td>45493.0</td>\n",
       "      <td>970.0</td>\n",
       "      <td>16</td>\n",
       "      <td>12838.38</td>\n",
       "    </tr>\n",
       "    <tr>\n",
       "      <th>2</th>\n",
       "      <td>0</td>\n",
       "      <td>1</td>\n",
       "      <td>2</td>\n",
       "      <td>2</td>\n",
       "      <td>1</td>\n",
       "      <td>2</td>\n",
       "      <td>2</td>\n",
       "      <td>779</td>\n",
       "      <td>0</td>\n",
       "      <td>1</td>\n",
       "      <td>1</td>\n",
       "      <td>3</td>\n",
       "      <td>3</td>\n",
       "      <td>500.690000</td>\n",
       "      <td>44</td>\n",
       "      <td>516.16</td>\n",
       "      <td>82401.0</td>\n",
       "      <td>680.0</td>\n",
       "      <td>14</td>\n",
       "      <td>21027.00</td>\n",
       "    </tr>\n",
       "    <tr>\n",
       "      <th>3</th>\n",
       "      <td>1</td>\n",
       "      <td>0</td>\n",
       "      <td>2</td>\n",
       "      <td>2</td>\n",
       "      <td>1</td>\n",
       "      <td>2</td>\n",
       "      <td>1</td>\n",
       "      <td>1637</td>\n",
       "      <td>0</td>\n",
       "      <td>1</td>\n",
       "      <td>1</td>\n",
       "      <td>4</td>\n",
       "      <td>3</td>\n",
       "      <td>567.660000</td>\n",
       "      <td>37</td>\n",
       "      <td>53.27</td>\n",
       "      <td>57470.0</td>\n",
       "      <td>667.0</td>\n",
       "      <td>11</td>\n",
       "      <td>25239.56</td>\n",
       "    </tr>\n",
       "    <tr>\n",
       "      <th>4</th>\n",
       "      <td>0</td>\n",
       "      <td>0</td>\n",
       "      <td>2</td>\n",
       "      <td>1</td>\n",
       "      <td>0</td>\n",
       "      <td>3</td>\n",
       "      <td>1</td>\n",
       "      <td>743</td>\n",
       "      <td>0</td>\n",
       "      <td>1</td>\n",
       "      <td>1</td>\n",
       "      <td>2</td>\n",
       "      <td>3</td>\n",
       "      <td>663.060000</td>\n",
       "      <td>31</td>\n",
       "      <td>113.13</td>\n",
       "      <td>56804.0</td>\n",
       "      <td>985.0</td>\n",
       "      <td>20</td>\n",
       "      <td>24483.66</td>\n",
       "    </tr>\n",
       "  </tbody>\n",
       "</table>\n",
       "</div>"
      ],
      "text/plain": [
       "   gender  region_category  membership_category  joined_through_referral  \\\n",
       "0       0                2                    3                        1   \n",
       "1       0                0                    4                        0   \n",
       "2       0                1                    2                        2   \n",
       "3       1                0                    2                        2   \n",
       "4       0                0                    2                        1   \n",
       "\n",
       "   preferred_offer_types  medium_of_operation  internet_option  \\\n",
       "0                      1                    0                2   \n",
       "1                      1                    2                1   \n",
       "2                      1                    2                2   \n",
       "3                      1                    2                1   \n",
       "4                      0                    3                1   \n",
       "\n",
       "   avg_frequency_login_days  used_special_discount  \\\n",
       "0                       746                      1   \n",
       "1                       732                      1   \n",
       "2                       779                      0   \n",
       "3                      1637                      0   \n",
       "4                       743                      0   \n",
       "\n",
       "   offer_application_preference  past_complaint  complaint_status  feedback  \\\n",
       "0                             1               0                 1         4   \n",
       "1                             0               1                 2         5   \n",
       "2                             1               1                 3         3   \n",
       "3                             1               1                 4         3   \n",
       "4                             1               1                 2         3   \n",
       "\n",
       "   points_in_wallet  age  avg_time_spent  last_visit_time  joining_date  \\\n",
       "0        781.750000   18          300.63          58082.0         959.0   \n",
       "1        686.882199   32          306.34          45493.0         970.0   \n",
       "2        500.690000   44          516.16          82401.0         680.0   \n",
       "3        567.660000   37           53.27          57470.0         667.0   \n",
       "4        663.060000   31          113.13          56804.0         985.0   \n",
       "\n",
       "   days_since_last_login  avg_transaction_value  \n",
       "0                     17               53005.25  \n",
       "1                     16               12838.38  \n",
       "2                     14               21027.00  \n",
       "3                     11               25239.56  \n",
       "4                     20               24483.66  "
      ]
     },
     "execution_count": 632,
     "metadata": {},
     "output_type": "execute_result"
    }
   ],
   "source": [
    "X.head()"
   ]
  },
  {
   "cell_type": "code",
   "execution_count": 633,
   "metadata": {},
   "outputs": [],
   "source": [
    "from sklearn.linear_model import LinearRegression\n",
    "from sklearn.ensemble import RandomForestClassifier\n",
    "model = RandomForestClassifier()"
   ]
  },
  {
   "cell_type": "code",
   "execution_count": null,
   "metadata": {},
   "outputs": [],
   "source": [
    "model.fit(X_train,y_train)"
   ]
  },
  {
   "cell_type": "code",
   "execution_count": null,
   "metadata": {},
   "outputs": [],
   "source": [
    "y_pred = model.predict(X_test)"
   ]
  },
  {
   "cell_type": "code",
   "execution_count": null,
   "metadata": {},
   "outputs": [],
   "source": [
    "from sklearn.metrics import f1_score,mean_squared_error\n",
    "score = f1_score(y_test, y_pred,average=\"macro\")\n",
    "score"
   ]
  },
  {
   "cell_type": "code",
   "execution_count": null,
   "metadata": {},
   "outputs": [],
   "source": [
    "result_df = pd.DataFrame({\n",
    "    \"churn_risk_score\":y_pred.astype(int)\n",
    "})"
   ]
  },
  {
   "cell_type": "code",
   "execution_count": null,
   "metadata": {},
   "outputs": [],
   "source": [
    "result_df"
   ]
  },
  {
   "cell_type": "code",
   "execution_count": null,
   "metadata": {},
   "outputs": [],
   "source": [
    "real_test_data = pd.read_csv(\"dataset/test.csv\")\n",
    "real_test_data.head()"
   ]
  },
  {
   "cell_type": "code",
   "execution_count": null,
   "metadata": {},
   "outputs": [],
   "source": [
    "real_test_data = dropAllNA(real_test_data)"
   ]
  },
  {
   "cell_type": "code",
   "execution_count": null,
   "metadata": {},
   "outputs": [],
   "source": [
    "real_test_data2 = real_test_data[['age', 'gender',\n",
    "       'region_category', 'membership_category', 'joining_date',\n",
    "       'joined_through_referral', 'preferred_offer_types',\n",
    "       'medium_of_operation', 'internet_option', 'last_visit_time',\n",
    "       'days_since_last_login', 'avg_time_spent', 'avg_transaction_value',\n",
    "       'avg_frequency_login_days', 'points_in_wallet', 'used_special_discount',\n",
    "       'offer_application_preference', 'past_complaint', 'complaint_status',\n",
    "       'feedback']]\n"
   ]
  },
  {
   "cell_type": "code",
   "execution_count": null,
   "metadata": {},
   "outputs": [],
   "source": [
    "real_test_data2 = real_test_data2.fillna(real_test_data2.mean())"
   ]
  },
  {
   "cell_type": "code",
   "execution_count": null,
   "metadata": {},
   "outputs": [],
   "source": [
    "# joining_date column conversions"
   ]
  },
  {
   "cell_type": "code",
   "execution_count": null,
   "metadata": {},
   "outputs": [],
   "source": [
    "# Joining Date Columns Converted to Int\n",
    "joining_date_col = pd.to_datetime(real_test_data2[\"joining_date\"])"
   ]
  },
  {
   "cell_type": "code",
   "execution_count": null,
   "metadata": {},
   "outputs": [],
   "source": [
    "real_test_data2[\"joining_date\"] = pd.to_datetime(real_test_data2[\"joining_date\"])  - joining_date_col.min()"
   ]
  },
  {
   "cell_type": "code",
   "execution_count": null,
   "metadata": {},
   "outputs": [],
   "source": [
    "# df[\"joining_date\"].value_counts()\n",
    "real_test_data2[\"joining_date\"] = real_test_data2[\"joining_date\"] / np.timedelta64(1, 'D')\n",
    "real_test_data2[\"joining_date\"][0:10]"
   ]
  },
  {
   "cell_type": "code",
   "execution_count": null,
   "metadata": {},
   "outputs": [],
   "source": [
    "real_test_data2.dtypes"
   ]
  },
  {
   "cell_type": "markdown",
   "metadata": {},
   "source": [
    "### Last Visit Time Fix for Test"
   ]
  },
  {
   "cell_type": "code",
   "execution_count": null,
   "metadata": {},
   "outputs": [],
   "source": [
    "# pd.TimeStamp(pd.to_datetime(df[\"last_visit_time\"],format=\"%H:%M:%S\"))\n",
    "last_visit_ns = pd.to_datetime(real_test_data2[\"last_visit_time\"],format=\"%H:%M:%S\")"
   ]
  },
  {
   "cell_type": "code",
   "execution_count": null,
   "metadata": {},
   "outputs": [],
   "source": [
    "ts = (last_visit_ns - np.datetime64('1900-01-01T00:00:00Z')) / np.timedelta64(1, 's')"
   ]
  },
  {
   "cell_type": "code",
   "execution_count": null,
   "metadata": {},
   "outputs": [],
   "source": [
    "ts"
   ]
  },
  {
   "cell_type": "code",
   "execution_count": null,
   "metadata": {},
   "outputs": [],
   "source": [
    "real_test_data2[\"last_visit_time\"] = ts"
   ]
  },
  {
   "cell_type": "code",
   "execution_count": null,
   "metadata": {},
   "outputs": [],
   "source": [
    "real_test_data2.dtypes"
   ]
  },
  {
   "cell_type": "code",
   "execution_count": null,
   "metadata": {},
   "outputs": [],
   "source": [
    "encoded_str = real_test_data2.select_dtypes(include=\"object\")#.apply(label_encoder.fit_transform)"
   ]
  },
  {
   "cell_type": "code",
   "execution_count": null,
   "metadata": {},
   "outputs": [],
   "source": [
    "model_ip = encoded_str.astype(str).apply(label_encoder.fit_transform)"
   ]
  },
  {
   "cell_type": "code",
   "execution_count": null,
   "metadata": {},
   "outputs": [],
   "source": [
    "model_ip[['points_in_wallet', 'age', 'avg_time_spent', 'last_visit_time', 'joining_date', 'days_since_last_login', 'avg_transaction_value']] = real_test_data2[['points_in_wallet', 'age', 'avg_time_spent', 'last_visit_time', 'joining_date', 'days_since_last_login', 'avg_transaction_value']]\n",
    "model_ip[['last_visit_time', 'joining_date']] = real_test_data2[['last_visit_time', 'joining_date']]\n",
    "model_ip.head()"
   ]
  },
  {
   "cell_type": "code",
   "execution_count": null,
   "metadata": {},
   "outputs": [],
   "source": [
    "model_ip[['last_visit_time', 'joining_date']].isna().sum()"
   ]
  },
  {
   "cell_type": "code",
   "execution_count": null,
   "metadata": {},
   "outputs": [],
   "source": [
    "model_ip.dtypes"
   ]
  },
  {
   "cell_type": "code",
   "execution_count": null,
   "metadata": {},
   "outputs": [],
   "source": [
    "# str_needed = real_test_data.select_dtypes(exclude=[\"float64\",\"int64\"])\n",
    "real_test_pred = model.predict(model_ip)"
   ]
  },
  {
   "cell_type": "code",
   "execution_count": null,
   "metadata": {},
   "outputs": [],
   "source": [
    "final_result_df = pd.DataFrame({\n",
    "    \"customer_id\":real_test_data[\"customer_id\"],\n",
    "    \"churn_risk_score\":real_test_pred.astype(int)\n",
    "})"
   ]
  },
  {
   "cell_type": "code",
   "execution_count": null,
   "metadata": {},
   "outputs": [],
   "source": [
    "final_result_df.head()"
   ]
  },
  {
   "cell_type": "code",
   "execution_count": null,
   "metadata": {},
   "outputs": [],
   "source": [
    "final_result_df.to_csv(f\"Model-{score}.csv\")"
   ]
  },
  {
   "cell_type": "code",
   "execution_count": null,
   "metadata": {},
   "outputs": [],
   "source": [
    "print(score)"
   ]
  }
 ],
 "metadata": {
  "kernelspec": {
   "display_name": "Python 3",
   "language": "python",
   "name": "python3"
  },
  "language_info": {
   "codemirror_mode": {
    "name": "ipython",
    "version": 3
   },
   "file_extension": ".py",
   "mimetype": "text/x-python",
   "name": "python",
   "nbconvert_exporter": "python",
   "pygments_lexer": "ipython3",
   "version": "3.8.3"
  }
 },
 "nbformat": 4,
 "nbformat_minor": 4
}
